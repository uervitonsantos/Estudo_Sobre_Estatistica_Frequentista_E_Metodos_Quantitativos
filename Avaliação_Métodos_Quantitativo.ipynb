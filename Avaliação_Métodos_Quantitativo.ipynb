{
  "nbformat": 4,
  "nbformat_minor": 0,
  "metadata": {
    "colab": {
      "provenance": [],
      "include_colab_link": true
    },
    "kernelspec": {
      "name": "python3",
      "display_name": "Python 3"
    },
    "language_info": {
      "name": "python"
    }
  },
  "cells": [
    {
      "cell_type": "markdown",
      "metadata": {
        "id": "view-in-github",
        "colab_type": "text"
      },
      "source": [
        "<a href=\"https://colab.research.google.com/github/uervitonsantos/Exercicios_Metodos_Quantitativos/blob/main/Avalia%C3%A7%C3%A3o_M%C3%A9todos_Quantitativo.ipynb\" target=\"_parent\"><img src=\"https://colab.research.google.com/assets/colab-badge.svg\" alt=\"Open In Colab\"/></a>"
      ]
    },
    {
      "cell_type": "markdown",
      "source": [
        "## Metodos Quantitativos"
      ],
      "metadata": {
        "id": "vBAteMN7Iz4y"
      }
    },
    {
      "cell_type": "code",
      "source": [
        "# rpy2 fornece uma interface que permite executar R em processos Python.\n",
        "!pip install rpy2"
      ],
      "metadata": {
        "id": "WE4MDPkNRpEd"
      },
      "execution_count": null,
      "outputs": []
    },
    {
      "cell_type": "code",
      "source": [
        "%load_ext rpy2.ipython"
      ],
      "metadata": {
        "id": "lSGra-J2RwXj"
      },
      "execution_count": 2,
      "outputs": []
    },
    {
      "cell_type": "code",
      "source": [
        "%%R\n",
        "# install e chamada dos pacotes necessarios para o analise dos dados\n",
        "if(!require(tidyverse))\n",
        "install.packages(\"tidyverse\")\n",
        "if(!require(RVAideMemoire))\n",
        "install.packages(\"nortest\")\n",
        "if(!require(psych))\n",
        "install.packages(\"psych\")\n",
        "if(!require(rstatix))\n",
        "install.packages(\"rstatix\")\n",
        "if(!require(car))\n",
        "install.packages(\"car\")\n",
        "if(!require(DescTools))\n",
        "install.packages(\"DescTools\")"
      ],
      "metadata": {
        "id": "uTdO-MY1R3JK"
      },
      "execution_count": null,
      "outputs": []
    },
    {
      "cell_type": "code",
      "source": [
        "%%R\n",
        "library(dplyr)\n",
        "library(tidyverse)\n",
        "library(tidyr)\n",
        "library(ggplot2)\n",
        "library(nortest)\n",
        "library(psych)\n",
        "library(rstatix)\n",
        "library(car)\n",
        "library(DescTools)"
      ],
      "metadata": {
        "id": "Ebj-tDxJSjef"
      },
      "execution_count": null,
      "outputs": []
    },
    {
      "cell_type": "markdown",
      "source": [
        "# 1. (1,0 ponto) A temperatura de deformação sob carga de duas formulações diferentes de tubos plásticos está sendo estudada. Duas amostras de 12 observações são preparadas usando cada formulação, as temperaturas de deformação (em °F) são relatadas a seguir:"
      ],
      "metadata": {
        "id": "E2CvRmyBJACb"
      }
    },
    {
      "cell_type": "markdown",
      "source": [
        "a) Os dados apoiam a alegação de que a temperatura média de deformação sob carga para a formulação 1 é\n",
        "maior que a da formulação 2? Use α = 0,05."
      ],
      "metadata": {
        "id": "06zExhj8JkP8"
      }
    },
    {
      "cell_type": "code",
      "source": [
        "%%R\n",
        "# construção das listas com os valores para cada grupo\n",
        "FORMULACAO_1 <- c(212, 199, 198, 194, 213, 216, 211, 191, 200, 193, 195, 184)\n",
        "FORMULACAO_2 <- c(177, 176, 198, 197, 185, 188, 206, 200, 189, 201, 197, 203)\n",
        "\n",
        "# montando um dataFrame com os grupos selecionados\n",
        "FORMULACAO <- data.frame(FORMULACAO_1, FORMULACAO_2)\n",
        "\n",
        "#str é uma função para verificar os tipos de dados de cada grupos\n",
        "str(FORMULACAO)"
      ],
      "metadata": {
        "id": "WNcQP-PuVldX",
        "colab": {
          "base_uri": "https://localhost:8080/"
        },
        "outputId": "1ae9649f-3cc2-4fd4-c26a-abf09a4701d7"
      },
      "execution_count": 17,
      "outputs": [
        {
          "output_type": "stream",
          "name": "stdout",
          "text": [
            "'data.frame':\t12 obs. of  2 variables:\n",
            " $ FORMULACAO_1: num  212 199 198 194 213 216 211 191 200 193 ...\n",
            " $ FORMULACAO_2: num  177 176 198 197 185 188 206 200 189 201 ...\n"
          ]
        }
      ]
    },
    {
      "cell_type": "markdown",
      "source": [
        "##Hipóteses:\n",
        "\n",
        "H0: Os grupos possuem a mesma média\n",
        "\n",
        "H1: Os grupos possuem médias diferente"
      ],
      "metadata": {
        "id": "KCQEUJGUUHfp"
      }
    },
    {
      "cell_type": "code",
      "source": [
        "%%R\n",
        "# Para comparar a média de cada um desses dois grupos, usamos a função t.test().\n",
        "# http://rstudio-pubs-static.s3.amazonaws.com/408638_6679293d4c7a415eaebe00faa3aea0cb.html\n",
        "t.test(FORMULACAO_1, FORMULACAO_2, var.equal = TRUE, conf.level  = 0.95)"
      ],
      "metadata": {
        "colab": {
          "base_uri": "https://localhost:8080/"
        },
        "id": "1-L6wZUkM13m",
        "outputId": "72c7c2d7-7846-48d4-ac4c-8992e13ac2cc"
      },
      "execution_count": 21,
      "outputs": [
        {
          "output_type": "stream",
          "name": "stdout",
          "text": [
            "\n",
            "\tTwo Sample t-test\n",
            "\n",
            "data:  FORMULACAO_1 and FORMULACAO_2\n",
            "t = 1.8053, df = 22, p-value = 0.08473\n",
            "alternative hypothesis: true difference in means is not equal to 0\n",
            "95 percent confidence interval:\n",
            " -1.103433 15.936766\n",
            "sample estimates:\n",
            "mean of x mean of y \n",
            " 200.5000  193.0833 \n",
            "\n"
          ]
        }
      ]
    },
    {
      "cell_type": "code",
      "source": [
        "%%R\n",
        "# pivot_longer()\"aumenta\" os dados, aumentando o número de linhas e diminuindo o número de colunas.\n",
        "# https://tidyr.tidyverse.org/reference/pivot_longer.html\n",
        "FORMULACAO <- FORMULACAO %>% pivot_longer(cols = everything(), names_to = \"FORMULACAO\")\n",
        "FORMULACAO"
      ],
      "metadata": {
        "colab": {
          "base_uri": "https://localhost:8080/"
        },
        "id": "iMG-ZSPXiX9s",
        "outputId": "cf103a36-cf7e-4c1a-f7b2-e9f60e230032"
      },
      "execution_count": 19,
      "outputs": [
        {
          "output_type": "stream",
          "name": "stdout",
          "text": [
            "# A tibble: 24 × 2\n",
            "   FORMULACAO   value\n",
            "   <chr>        <dbl>\n",
            " 1 FORMULACAO_1   212\n",
            " 2 FORMULACAO_2   177\n",
            " 3 FORMULACAO_1   199\n",
            " 4 FORMULACAO_2   176\n",
            " 5 FORMULACAO_1   198\n",
            " 6 FORMULACAO_2   198\n",
            " 7 FORMULACAO_1   194\n",
            " 8 FORMULACAO_2   197\n",
            " 9 FORMULACAO_1   213\n",
            "10 FORMULACAO_2   185\n",
            "# … with 14 more rows\n",
            "# ℹ Use `print(n = ...)` to see more rows\n"
          ]
        }
      ]
    },
    {
      "cell_type": "code",
      "source": [
        "%%R\n",
        "# verificamos abaixo um grafico (boxplot), que mostra a distribuição dos dados, as medias e os outliers presentes no conjunto\n",
        "# https://pt.wikipedia.org/wiki/Diagrama_de_caixa\n",
        "boxplot(value ~ FORMULACAO, data = FORMULACAO, ylab=\"Valores\", xlab=\"Formulações\")"
      ],
      "metadata": {
        "colab": {
          "base_uri": "https://localhost:8080/",
          "height": 497
        },
        "id": "4O9HYyT2eHPO",
        "outputId": "7072c7c0-a328-439b-dd2c-02339f3e7dd4"
      },
      "execution_count": 20,
      "outputs": [
        {
          "output_type": "display_data",
          "data": {
            "image/png": "[encoded data removed]"
          },
          "metadata": {}
        }
      ]
    },
    {
      "cell_type": "markdown",
      "source": [
        "O teste-t para as duas amostras (Formulação 1 e Formulaçao 2), mostrou que há diferença entre as médias com (t(22) = 1.81; P = 0.08473). Portanto podemos rejeitar a H1"
      ],
      "metadata": {
        "id": "BMou49-8VWbM"
      }
    },
    {
      "cell_type": "markdown",
      "source": [
        "# 2. (1,0 ponto) O fabricante de um produto está investigando a resistência à ruptura de uma nova fibra sintética, que será utilizada para confecção de camisas de uso masculino. A resistência é geralmente afetada pela porcentagem de algodão usado na mistura de materiais para a fibra. O fabricante realizou um experimento com cinco níveis do conteúdo de algodão e reproduziu o experimento cinco vezes. Os dados estão apresentados na tabela a seguir."
      ],
      "metadata": {
        "id": "MTnAX8tDJ8c9"
      }
    },
    {
      "cell_type": "markdown",
      "source": [
        "a) Há evidências para apoiar a alegação de que a porcentagem de algodão afeta a média de resistência da nova\n",
        "fibra? Use α = 0,05."
      ],
      "metadata": {
        "id": "djumfL0gJ04D"
      }
    },
    {
      "cell_type": "markdown",
      "source": [
        "b) Se necessário, faça comparações entre os pares de médias. Que conclusões você pode tirar?"
      ],
      "metadata": {
        "id": "85516C6yJ4Wp"
      }
    },
    {
      "cell_type": "code",
      "source": [
        "%%R\n",
        "# construção das listas com os valores para cada grupo\n",
        "Algodao_15 <- c(7,7,15,11,9)\n",
        "Algodao_20 <- c(12,17,12,18,18)\n",
        "Algodao_25 <- c(14,19,19,18,18)\n",
        "Algodao_30 <- c(19,25,22,19,23)\n",
        "Algodao_35 <- c(7,10,11,15,11)\n",
        "\n",
        "# montando um dataFrame com os grupos selecionados\n",
        "algodao <- data.frame(Algodao_15, Algodao_20, Algodao_25, Algodao_30, Algodao_35)\n",
        "\n",
        "#str é uma função para verificar os tipos de dados de cada grupos\n",
        "str(algodao)"
      ],
      "metadata": {
        "id": "vrzdYSmdbuuS",
        "outputId": "255ceba1-d5f4-4f94-8e2e-c715072bb68c",
        "colab": {
          "base_uri": "https://localhost:8080/"
        }
      },
      "execution_count": 22,
      "outputs": [
        {
          "output_type": "stream",
          "name": "stdout",
          "text": [
            "'data.frame':\t5 obs. of  5 variables:\n",
            " $ Algodao_15: num  7 7 15 11 9\n",
            " $ Algodao_20: num  12 17 12 18 18\n",
            " $ Algodao_25: num  14 19 19 18 18\n",
            " $ Algodao_30: num  19 25 22 19 23\n",
            " $ Algodao_35: num  7 10 11 15 11\n"
          ]
        }
      ]
    },
    {
      "cell_type": "code",
      "source": [
        "%%R\n",
        "# pivot_longer()\"aumenta\" os dados, aumentando o número de linhas e diminuindo o número de colunas.\n",
        "# https://tidyr.tidyverse.org/reference/pivot_longer.html\n",
        "algodao <- algodao %>% pivot_longer(cols = everything(), names_to = \"algodao\")\n",
        "algodao"
      ],
      "metadata": {
        "id": "PqXn44hAcSQT",
        "outputId": "e5cb90cd-ea51-4b6c-8633-91d656883c28",
        "colab": {
          "base_uri": "https://localhost:8080/"
        }
      },
      "execution_count": 23,
      "outputs": [
        {
          "output_type": "stream",
          "name": "stdout",
          "text": [
            "# A tibble: 25 × 2\n",
            "   algodao    value\n",
            "   <chr>      <dbl>\n",
            " 1 Algodao_15     7\n",
            " 2 Algodao_20    12\n",
            " 3 Algodao_25    14\n",
            " 4 Algodao_30    19\n",
            " 5 Algodao_35     7\n",
            " 6 Algodao_15     7\n",
            " 7 Algodao_20    17\n",
            " 8 Algodao_25    19\n",
            " 9 Algodao_30    25\n",
            "10 Algodao_35    10\n",
            "# … with 15 more rows\n",
            "# ℹ Use `print(n = ...)` to see more rows\n"
          ]
        }
      ]
    },
    {
      "cell_type": "code",
      "source": [
        "%%R\n",
        "# teste ANOVA para análisar a variância entre os grupos\n",
        "# https://pt.wikipedia.org/wiki/An%C3%A1lise_de_vari%C3%A2ncia\n",
        "anova_algodao <- aov(value ~ algodao, data = algodao, conf.level  = 0.95)\n",
        "summary(anova_algodao)"
      ],
      "metadata": {
        "id": "knqhhRjocWuJ",
        "outputId": "c8c0bf91-985d-4747-a973-bc26b37243ed",
        "colab": {
          "base_uri": "https://localhost:8080/"
        }
      },
      "execution_count": 25,
      "outputs": [
        {
          "output_type": "stream",
          "name": "stdout",
          "text": [
            "            Df Sum Sq Mean Sq F value   Pr(>F)    \n",
            "algodao      4  475.8  118.94   14.76 9.13e-06 ***\n",
            "Residuals   20  161.2    8.06                     \n",
            "---\n",
            "Signif. codes:  0 ‘***’ 0.001 ‘**’ 0.01 ‘*’ 0.05 ‘.’ 0.1 ‘ ’ 1\n"
          ]
        }
      ]
    },
    {
      "cell_type": "code",
      "source": [
        "%%R\n",
        "# teste de tukey para análizar entre quais grupos existe as maiores variâncias\n",
        "# https://en.wikipedia.org/wiki/Tukey's_range_test\n",
        "TUKEY <- TukeyHSD(anova_algodao, \"algodao\", ordered = TRUE, conf.level=0.95)\n",
        "TUKEY"
      ],
      "metadata": {
        "id": "yS7TMgWifkTA",
        "outputId": "425ac0eb-7b10-4d89-dc22-7cc7815dcc2a",
        "colab": {
          "base_uri": "https://localhost:8080/"
        }
      },
      "execution_count": 28,
      "outputs": [
        {
          "output_type": "stream",
          "name": "stdout",
          "text": [
            "  Tukey multiple comparisons of means\n",
            "    95% family-wise confidence level\n",
            "    factor levels have been ordered\n",
            "\n",
            "Fit: aov(formula = value ~ algodao, data = algodao, conf.level = 0.95)\n",
            "\n",
            "$algodao\n",
            "                      diff        lwr       upr     p adj\n",
            "Algodao_35-Algodao_15  1.0 -4.3729583  6.372958 0.9797709\n",
            "Algodao_20-Algodao_15  5.6  0.2270417 10.972958 0.0385024\n",
            "Algodao_25-Algodao_15  7.8  2.4270417 13.172958 0.0025948\n",
            "Algodao_30-Algodao_15 11.8  6.4270417 17.172958 0.0000190\n",
            "Algodao_20-Algodao_35  4.6 -0.7729583  9.972958 0.1162970\n",
            "Algodao_25-Algodao_35  6.8  1.4270417 12.172958 0.0090646\n",
            "Algodao_30-Algodao_35 10.8  5.4270417 16.172958 0.0000624\n",
            "Algodao_25-Algodao_20  2.2 -3.1729583  7.572958 0.7372438\n",
            "Algodao_30-Algodao_20  6.2  0.8270417 11.572958 0.0188936\n",
            "Algodao_30-Algodao_25  4.0 -1.3729583  9.372958 0.2101089\n",
            "\n"
          ]
        }
      ]
    },
    {
      "cell_type": "markdown",
      "source": [
        "O teste da ANOVA retorna um Valor de P = 9.13e-06. Mostrando que há deferença em pelo menos um dos grupos.\n",
        "O teste de Tukey mostro que a diferenças significativas entre a amostra de Algodão (20 - 35),(25 - 20),(30 -25)"
      ],
      "metadata": {
        "id": "U7p8BMiZg7vu"
      }
    },
    {
      "cell_type": "markdown",
      "source": [
        "# 3. (2,0 pontos) A resistência à tração do cimento Portland está sendo estudada. Quatro diferentes técnicas de mistura foram usadas e os seguintes dados coletados:"
      ],
      "metadata": {
        "id": "O9wQ0rXtOBWZ"
      }
    },
    {
      "cell_type": "markdown",
      "source": [
        "a) Avalie se os pressupostos para a análise de variância são satisfeitos."
      ],
      "metadata": {
        "id": "4CYYIE6nOWNu"
      }
    },
    {
      "cell_type": "markdown",
      "source": [
        "b) Teste a hipótese de que a técnica de mistura afeta a resistência do cimento. Use α = 0,05 e justifique a\n",
        "escolha da técnica utilizada (ANOVA ou Kruskal-Wallis)."
      ],
      "metadata": {
        "id": "kOVsBWuGOZyG"
      }
    },
    {
      "cell_type": "markdown",
      "source": [
        "c) Se necessário, faça um teste de comparações múltiplas."
      ],
      "metadata": {
        "id": "Z00mDTFdOdnu"
      }
    },
    {
      "cell_type": "code",
      "source": [
        "%%R\n",
        "# construção das listas com os valores para cada grupo\n",
        "mistrura_1 <- c(3129, 3000, 2865, 2890)\n",
        "mistrura_2 <- c(3200, 3300, 2975, 3150)\n",
        "mistrura_3 <- c(2800, 2900, 2985, 3050)\n",
        "mistrura_4 <- c(2600, 2700, 2600, 2765)\n",
        "\n",
        "# montando um dataFrame com os grupos selecionados\n",
        "mistura <- data.frame(mistrura_1, mistrura_2, mistrura_3, mistrura_4)\n",
        "\n",
        "#str é uma função para verificar os tipos de dados de cada grupos\n",
        "str(mistura)"
      ],
      "metadata": {
        "id": "BCP_AGIko2he",
        "outputId": "4c25f4ba-0464-4bee-fa47-a28b0a5db732",
        "colab": {
          "base_uri": "https://localhost:8080/"
        }
      },
      "execution_count": 31,
      "outputs": [
        {
          "output_type": "stream",
          "name": "stdout",
          "text": [
            "'data.frame':\t4 obs. of  4 variables:\n",
            " $ mistrura_1: num  3129 3000 2865 2890\n",
            " $ mistrura_2: num  3200 3300 2975 3150\n",
            " $ mistrura_3: num  2800 2900 2985 3050\n",
            " $ mistrura_4: num  2600 2700 2600 2765\n"
          ]
        }
      ]
    },
    {
      "cell_type": "code",
      "source": [
        "%%R\n",
        "# pivot_longer()\"aumenta\" os dados, aumentando o número de linhas e diminuindo o número de colunas.\n",
        "# https://tidyr.tidyverse.org/reference/pivot_longer.html\n",
        "mistura <- mistura %>% pivot_longer(cols = everything(), names_to = \"mistura\")\n",
        "mistura"
      ],
      "metadata": {
        "id": "uehe2_7pqxph",
        "outputId": "e0056b87-fb08-4d5f-d3bb-1ed54709e431",
        "colab": {
          "base_uri": "https://localhost:8080/"
        }
      },
      "execution_count": 32,
      "outputs": [
        {
          "output_type": "stream",
          "name": "stdout",
          "text": [
            "# A tibble: 16 × 2\n",
            "   mistura    value\n",
            "   <chr>      <dbl>\n",
            " 1 mistrura_1  3129\n",
            " 2 mistrura_2  3200\n",
            " 3 mistrura_3  2800\n",
            " 4 mistrura_4  2600\n",
            " 5 mistrura_1  3000\n",
            " 6 mistrura_2  3300\n",
            " 7 mistrura_3  2900\n",
            " 8 mistrura_4  2700\n",
            " 9 mistrura_1  2865\n",
            "10 mistrura_2  2975\n",
            "11 mistrura_3  2985\n",
            "12 mistrura_4  2600\n",
            "13 mistrura_1  2890\n",
            "14 mistrura_2  3150\n",
            "15 mistrura_3  3050\n",
            "16 mistrura_4  2765\n"
          ]
        }
      ]
    },
    {
      "cell_type": "code",
      "source": [
        "%%R\n",
        "# teste ANOVA para análisar a variância entre os grupos\n",
        "# https://pt.wikipedia.org/wiki/An%C3%A1lise_de_vari%C3%A2ncia\n",
        "anova_mistura <- aov(value ~ mistura, data = mistura, conf.level  = 0.95)\n",
        "summary(anova_mistura)"
      ],
      "metadata": {
        "id": "rEFly7ojqj7c",
        "outputId": "2f13418d-18af-4a65-a7c3-15e1d9b96092",
        "colab": {
          "base_uri": "https://localhost:8080/"
        }
      },
      "execution_count": 34,
      "outputs": [
        {
          "output_type": "stream",
          "name": "stdout",
          "text": [
            "            Df Sum Sq Mean Sq F value   Pr(>F)    \n",
            "mistura      3 489740  163247   12.73 0.000489 ***\n",
            "Residuals   12 153908   12826                     \n",
            "---\n",
            "Signif. codes:  0 ‘***’ 0.001 ‘**’ 0.01 ‘*’ 0.05 ‘.’ 0.1 ‘ ’ 1\n"
          ]
        }
      ]
    },
    {
      "cell_type": "code",
      "source": [
        "%%R\n",
        "# teste de tukey para análizar entre quais grupos existe as maiores variâncias\n",
        "# https://en.wikipedia.org/wiki/Tukey's_range_test\n",
        "TUKEY <- TukeyHSD(anova_mistura, \"mistura\", ordered = TRUE, conf.level=0.95)\n",
        "TUKEY"
      ],
      "metadata": {
        "id": "ZUq_tDhprqt2",
        "outputId": "d4ad5478-fde5-47c6-f8db-e0cadac0b115",
        "colab": {
          "base_uri": "https://localhost:8080/"
        }
      },
      "execution_count": 35,
      "outputs": [
        {
          "output_type": "stream",
          "name": "stdout",
          "text": [
            "  Tukey multiple comparisons of means\n",
            "    95% family-wise confidence level\n",
            "    factor levels have been ordered\n",
            "\n",
            "Fit: aov(formula = value ~ mistura, data = mistura, conf.level = 0.95)\n",
            "\n",
            "$mistura\n",
            "                        diff        lwr      upr     p adj\n",
            "mistrura_3-mistrura_4 267.50   29.74971 505.2503 0.0261838\n",
            "mistrura_1-mistrura_4 304.75   66.99971 542.5003 0.0115923\n",
            "mistrura_2-mistrura_4 490.00  252.24971 727.7503 0.0002622\n",
            "mistrura_1-mistrura_3  37.25 -200.50029 275.0003 0.9652776\n",
            "mistrura_2-mistrura_3 222.50  -15.25029 460.2503 0.0693027\n",
            "mistrura_2-mistrura_1 185.25  -52.50029 423.0003 0.1493561\n",
            "\n"
          ]
        }
      ]
    },
    {
      "cell_type": "markdown",
      "source": [
        "# 4. (1,0 ponto) Em um teste com um tipo de fusível, 9 peças foram testadas com 25% de sobrecarga. O tempo médio até queimar dessa amostra foi x 19, 2 minutos, com desvio-padrão populacional conhecido   2, 4 minutos. Sabendo que a população é normal calcule o intervalo de confiança 95% para a média μ da população."
      ],
      "metadata": {
        "id": "2VtzdBbMOjNn"
      }
    },
    {
      "cell_type": "markdown",
      "source": [
        "# 5. (1,0 ponto) A eficácia da publicidade de duas marcas rivais de café foi comparada. Os participantes avaliaram\n",
        "anúncios das duas marcas e classificaram a probabilidade geral de comprar o produto (de 0 a 10, com 10 sendo\n",
        "\"definitivamente vai comprar\" o produto\"). Metade dos participantes deu notas para um dos produtos, a outra metade\n",
        "deu classificações para o outro produto."
      ],
      "metadata": {
        "id": "TCiXYXMvOyLk"
      }
    },
    {
      "cell_type": "markdown",
      "source": [
        "Determine o teste a ser usado para verificar se existe diferença entre os dois grupos, realize o teste escolhido com 95% de confiança e discuta o significado dos resultados."
      ],
      "metadata": {
        "id": "mQx-slHXO4Tw"
      }
    },
    {
      "cell_type": "markdown",
      "source": [
        "# 6. (1,0 ponto) Os dados a seguir indicam a soma de notas obtidas por um grupo de alunos, homens e mulheres, do curso de engenharia. Use o teste de Mann-Whitney para determinar se os valores diferem entre homens e mulheres.Investigue se os empates observados interferem no resultado."
      ],
      "metadata": {
        "id": "BUoIhEz1O_Vq"
      }
    },
    {
      "cell_type": "markdown",
      "source": [
        "# 7. (1,0 ponto) O batimento cardíaco de um grupo de sete alunos, em batimento por minuto (bpm), foi aferido antes do exercício (I), imediatamente após o exercício (II), e 5 minutos após o exercício (III). Use o teste estatístico de Friedman para avaliar as diferenças entre os valores nas três situações. Aplique o teste de comparações múltiplas não paramétrico, se necessário."
      ],
      "metadata": {
        "id": "Ag1W8rkVPIuC"
      }
    },
    {
      "cell_type": "markdown",
      "source": [
        "# 8. (1,0 ponto) Use o teste de comparações múltiplas da menor diferença significativa para avaliar os resultados do exercício a seguir. Antes, faça o teste de Kruskall-Wallis."
      ],
      "metadata": {
        "id": "XGSZ2l2HPXt8"
      }
    },
    {
      "cell_type": "markdown",
      "source": [
        "# 9. (1,0 ponto) Considere os dados abaixo sobre os 574 gols marcados nas 232 partidas em Copas do Mundo de futebol, desde a Copa do Uruguai em 1930 até a Copa do Japão/Coreia em 2002. Os dados foram organizados em classes que representam intervalos de tempo entre gols sucessivos. Utilizando o teste Qui-quadrado verifique aderência ao modelo de Exponencial."
      ],
      "metadata": {
        "id": "lq63EQMPPeHW"
      }
    },
    {
      "cell_type": "markdown",
      "source": [
        "Dica: a distribuição exponencial é usada para descrever intervalos de tempo entre eventos sucessivos e possui a\n",
        "seguinte expressão: f(x) = λ*e-λx"
      ],
      "metadata": {
        "id": "cNhElFCGPmVg"
      }
    }
  ]
}