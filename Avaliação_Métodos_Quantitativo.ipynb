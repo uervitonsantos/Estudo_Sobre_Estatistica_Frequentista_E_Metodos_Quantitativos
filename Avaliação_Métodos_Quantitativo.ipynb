{
  "nbformat": 4,
  "nbformat_minor": 0,
  "metadata": {
    "colab": {
      "provenance": [],
      "include_colab_link": true
    },
    "kernelspec": {
      "name": "python3",
      "display_name": "Python 3"
    },
    "language_info": {
      "name": "python"
    }
  },
  "cells": [
    {
      "cell_type": "markdown",
      "metadata": {
        "id": "view-in-github",
        "colab_type": "text"
      },
      "source": [
        "<a href=\"https://colab.research.google.com/github/uervitonsantos/Exercicios_Metodos_Quantitativos/blob/main/Avalia%C3%A7%C3%A3o_M%C3%A9todos_Quantitativo.ipynb\" target=\"_parent\"><img src=\"https://colab.research.google.com/assets/colab-badge.svg\" alt=\"Open In Colab\"/></a>"
      ]
    },
    {
      "cell_type": "markdown",
      "source": [
        "## Metodos Quantitativos"
      ],
      "metadata": {
        "id": "vBAteMN7Iz4y"
      }
    },
    {
      "cell_type": "code",
      "source": [
        "# rpy2 fornece uma interface que permite executar R em processos Python.\n",
        "!pip install rpy2"
      ],
      "metadata": {
        "id": "WE4MDPkNRpEd"
      },
      "execution_count": null,
      "outputs": []
    },
    {
      "cell_type": "code",
      "source": [
        "%load_ext rpy2.ipython"
      ],
      "metadata": {
        "id": "lSGra-J2RwXj"
      },
      "execution_count": 2,
      "outputs": []
    },
    {
      "cell_type": "code",
      "source": [
        "%%R\n",
        "# install e chamada dos pacotes necessarios para o analise dos dados\n",
        "if(!require(tidyverse))\n",
        "install.packages(\"tidyverse\")\n",
        "if(!require(RVAideMemoire))\n",
        "install.packages(\"nortest\")\n",
        "if(!require(psych))\n",
        "install.packages(\"psych\")\n",
        "if(!require(rstatix))\n",
        "install.packages(\"rstatix\")\n",
        "if(!require(car))\n",
        "install.packages(\"car\")\n",
        "if(!require(DescTools))\n",
        "install.packages(\"DescTools\")\n",
        "if(!require(reshape))\n",
        "install.packages(\"reshape\")\n",
        "if(!require(PMCMRplus))\n",
        "install.packages(\"PMCMRplus\")"
      ],
      "metadata": {
        "id": "uTdO-MY1R3JK"
      },
      "execution_count": null,
      "outputs": []
    },
    {
      "cell_type": "code",
      "source": [
        "%%R\n",
        "library(dplyr)\n",
        "library(tidyverse)\n",
        "library(tidyr)\n",
        "library(ggplot2)\n",
        "library(nortest)\n",
        "library(psych)\n",
        "library(rstatix)\n",
        "library(car)\n",
        "library(reshape)\n",
        "#library(PMCMRplus)\n",
        "library(DescTools)"
      ],
      "metadata": {
        "id": "Ebj-tDxJSjef"
      },
      "execution_count": 165,
      "outputs": []
    },
    {
      "cell_type": "markdown",
      "source": [
        "# 1. (1,0 ponto) A temperatura de deformação sob carga de duas formulações diferentes de tubos plásticos está sendo estudada. Duas amostras de 12 observações são preparadas usando cada formulação, as temperaturas de deformação (em °F) são relatadas a seguir:"
      ],
      "metadata": {
        "id": "E2CvRmyBJACb"
      }
    },
    {
      "cell_type": "markdown",
      "source": [
        "a) Os dados apoiam a alegação de que a temperatura média de deformação sob carga para a formulação 1 é\n",
        "maior que a da formulação 2? Use α = 0,05."
      ],
      "metadata": {
        "id": "06zExhj8JkP8"
      }
    },
    {
      "cell_type": "code",
      "source": [
        "%%R\n",
        "# construção das listas com os valores para cada grupo\n",
        "FORMULACAO_1 <- c(212, 199, 198, 194, 213, 216, 211, 191, 200, 193, 195, 184)\n",
        "FORMULACAO_2 <- c(177, 176, 198, 197, 185, 188, 206, 200, 189, 201, 197, 203)\n",
        "\n",
        "# montando um dataFrame com os grupos selecionados\n",
        "FORMULACAO <- data.frame(FORMULACAO_1, FORMULACAO_2)\n",
        "\n",
        "#str é uma função para verificar os tipos de dados de cada grupos\n",
        "str(FORMULACAO)"
      ],
      "metadata": {
        "id": "WNcQP-PuVldX",
        "colab": {
          "base_uri": "https://localhost:8080/"
        },
        "outputId": "273f5bdb-cbe5-41a9-adac-a28d08845d04"
      },
      "execution_count": 5,
      "outputs": [
        {
          "output_type": "stream",
          "name": "stdout",
          "text": [
            "'data.frame':\t12 obs. of  2 variables:\n",
            " $ FORMULACAO_1: num  212 199 198 194 213 216 211 191 200 193 ...\n",
            " $ FORMULACAO_2: num  177 176 198 197 185 188 206 200 189 201 ...\n"
          ]
        }
      ]
    },
    {
      "cell_type": "markdown",
      "source": [
        "##Hipóteses:\n",
        "\n",
        "H0: Os grupos possuem distribuição normal\n",
        "\n",
        "H1: Os grupos possuem não distribuição normal"
      ],
      "metadata": {
        "id": "KCQEUJGUUHfp"
      }
    },
    {
      "cell_type": "code",
      "source": [
        "%%R\n",
        "# verificando a normalidade dos dados com test de shapiro-wilk\n",
        "# https://pt.wikipedia.org/wiki/Teste_de_Shapiro%E2%80%93Wilk\n",
        "shapiro_1 <- shapiro.test(FORMULACAO_1)\n",
        "shapiro_2 <- shapiro.test(FORMULACAO_2)"
      ],
      "metadata": {
        "id": "1qPQZPtOu-Ju"
      },
      "execution_count": 6,
      "outputs": []
    },
    {
      "cell_type": "code",
      "source": [
        "%%R\n",
        "# resultado do test de shapiro-wilk para o grupo FORMULACAO_1\n",
        "shapiro_1"
      ],
      "metadata": {
        "colab": {
          "base_uri": "https://localhost:8080/"
        },
        "id": "6UOf--W1wmxR",
        "outputId": "9fcf190d-42b8-4b94-af6d-ca626ba63218"
      },
      "execution_count": 7,
      "outputs": [
        {
          "output_type": "stream",
          "name": "stdout",
          "text": [
            "\n",
            "\tShapiro-Wilk normality test\n",
            "\n",
            "data:  FORMULACAO_1\n",
            "W = 0.92643, p-value = 0.3438\n",
            "\n"
          ]
        }
      ]
    },
    {
      "cell_type": "code",
      "source": [
        "%%R\n",
        "# resultado do test de shapiro-wilk para o grupo FORMULACAO_2\n",
        "shapiro_2"
      ],
      "metadata": {
        "colab": {
          "base_uri": "https://localhost:8080/"
        },
        "id": "lT_t6QHrwshY",
        "outputId": "fdf7ea93-ea10-4013-8ed3-97d17a074085"
      },
      "execution_count": 8,
      "outputs": [
        {
          "output_type": "stream",
          "name": "stdout",
          "text": [
            "\n",
            "\tShapiro-Wilk normality test\n",
            "\n",
            "data:  FORMULACAO_2\n",
            "W = 0.91474, p-value = 0.2453\n",
            "\n"
          ]
        }
      ]
    },
    {
      "cell_type": "markdown",
      "source": [
        "Podemos observar com o teste de shapiro-wilk que ambos os grupos possuem distribuição normal como p > 0,5"
      ],
      "metadata": {
        "id": "uHcFeAHSw1Ax"
      }
    },
    {
      "cell_type": "code",
      "source": [
        "%%R\n",
        "# pivot_longer()\"aumenta\" os dados, aumentando o número de linhas e diminuindo o número de colunas.\n",
        "# https://tidyr.tidyverse.org/reference/pivot_longer.html\n",
        "col_form <- FORMULACAO %>% pivot_longer(cols = everything(), names_to = \"formulacao\")\n",
        "col_form"
      ],
      "metadata": {
        "colab": {
          "base_uri": "https://localhost:8080/"
        },
        "id": "6ZQ_6PVNxYrJ",
        "outputId": "e6ec48be-725b-4be9-eca7-34123f95c923"
      },
      "execution_count": 9,
      "outputs": [
        {
          "output_type": "stream",
          "name": "stdout",
          "text": [
            "# A tibble: 24 × 2\n",
            "   formulacao   value\n",
            "   <chr>        <dbl>\n",
            " 1 FORMULACAO_1   212\n",
            " 2 FORMULACAO_2   177\n",
            " 3 FORMULACAO_1   199\n",
            " 4 FORMULACAO_2   176\n",
            " 5 FORMULACAO_1   198\n",
            " 6 FORMULACAO_2   198\n",
            " 7 FORMULACAO_1   194\n",
            " 8 FORMULACAO_2   197\n",
            " 9 FORMULACAO_1   213\n",
            "10 FORMULACAO_2   185\n",
            "# … with 14 more rows\n",
            "# ℹ Use `print(n = ...)` to see more rows\n"
          ]
        }
      ]
    },
    {
      "cell_type": "code",
      "source": [
        "%%R\n",
        "ggplot(col_form, aes(x=value)) + geom_histogram(aes(y=..density..), colour=\"black\", fill=\"white\")+\n",
        " geom_density(alpha=.2, fill=\"#FF6666\") + ggtitle(\"Visualizando a normalidade dos dados\")"
      ],
      "metadata": {
        "colab": {
          "base_uri": "https://localhost:8080/",
          "height": 514
        },
        "id": "y3Q49sD0yGAt",
        "outputId": "d1a66a9c-202b-4654-9340-2ce59136cb6a"
      },
      "execution_count": 10,
      "outputs": [
        {
          "output_type": "stream",
          "name": "stdout",
          "text": [
            "`stat_bin()` using `bins = 30`. Pick better value with `binwidth`.\n"
          ]
        },
        {
          "output_type": "display_data",
          "data": {
            "image/png": "[encoded data removed]"
          },
          "metadata": {}
        }
      ]
    },
    {
      "cell_type": "code",
      "source": [
        "%%R\n",
        "# teste de Levene para verificar a homogeneidade de variancias\n",
        "# https://pt.wikipedia.org/wiki/Teste_de_Levene\n",
        "leveneTest(value ~ formulacao, data = col_form, center=mean)"
      ],
      "metadata": {
        "colab": {
          "base_uri": "https://localhost:8080/"
        },
        "id": "cyZApmBgxlFN",
        "outputId": "ea074f78-8820-4a1c-e0b7-a80806cadc98"
      },
      "execution_count": 11,
      "outputs": [
        {
          "output_type": "stream",
          "name": "stdout",
          "text": [
            "Levene's Test for Homogeneity of Variance (center = mean)\n",
            "      Df F value Pr(>F)\n",
            "group  1  0.0012 0.9731\n",
            "      22               \n"
          ]
        }
      ]
    },
    {
      "cell_type": "code",
      "source": [
        "%%R\n",
        "# verificamos abaixo um grafico (boxplot), que mostra a distribuição dos dados, as medias e os outliers presentes no conjunto\n",
        "# https://pt.wikipedia.org/wiki/Diagrama_de_caixa\n",
        "boxplot(value ~ formulacao, data = col_form, ylab=\"Valores\", xlab=\"Formulações\")"
      ],
      "metadata": {
        "colab": {
          "base_uri": "https://localhost:8080/",
          "height": 497
        },
        "id": "4O9HYyT2eHPO",
        "outputId": "026eda59-dc97-4ae8-8d7f-9e8d43a0d2ea"
      },
      "execution_count": 12,
      "outputs": [
        {
          "output_type": "display_data",
          "data": {
            "image/png": "[encoded data removed]"
          },
          "metadata": {}
        }
      ]
    },
    {
      "cell_type": "code",
      "source": [
        "%%R\n",
        "# Para comparar a média de cada um desses dois grupos, usamos a função t.test().\n",
        "# http://rstudio-pubs-static.s3.amazonaws.com/408638_6679293d4c7a415eaebe00faa3aea0cb.html\n",
        "t.test(FORMULACAO_1, FORMULACAO_2, conf.level  = 0.95)"
      ],
      "metadata": {
        "colab": {
          "base_uri": "https://localhost:8080/"
        },
        "id": "1-L6wZUkM13m",
        "outputId": "1dccb1ff-f761-44cc-dbe6-bae95679d4bc"
      },
      "execution_count": 13,
      "outputs": [
        {
          "output_type": "stream",
          "name": "stdout",
          "text": [
            "\n",
            "\tWelch Two Sample t-test\n",
            "\n",
            "data:  FORMULACAO_1 and FORMULACAO_2\n",
            "t = 1.8053, df = 21.989, p-value = 0.08474\n",
            "alternative hypothesis: true difference in means is not equal to 0\n",
            "95 percent confidence interval:\n",
            " -1.103683 15.937016\n",
            "sample estimates:\n",
            "mean of x mean of y \n",
            " 200.5000  193.0833 \n",
            "\n"
          ]
        }
      ]
    },
    {
      "cell_type": "markdown",
      "source": [
        "O teste-t para as duas amostras (Formulação 1 e Formulaçao 2), mostrou que há diferença entre as médias com (t(22) = 1.81; P = 0.08473). Portanto podemos rejeitar a H1"
      ],
      "metadata": {
        "id": "BMou49-8VWbM"
      }
    },
    {
      "cell_type": "markdown",
      "source": [
        "# 2. (1,0 ponto) O fabricante de um produto está investigando a resistência à ruptura de uma nova fibra sintética, que será utilizada para confecção de camisas de uso masculino. A resistência é geralmente afetada pela porcentagem de algodão usado na mistura de materiais para a fibra. O fabricante realizou um experimento com cinco níveis do conteúdo de algodão e reproduziu o experimento cinco vezes. Os dados estão apresentados na tabela a seguir."
      ],
      "metadata": {
        "id": "MTnAX8tDJ8c9"
      }
    },
    {
      "cell_type": "markdown",
      "source": [
        "a) Há evidências para apoiar a alegação de que a porcentagem de algodão afeta a média de resistência da nova\n",
        "fibra? Use α = 0,05."
      ],
      "metadata": {
        "id": "djumfL0gJ04D"
      }
    },
    {
      "cell_type": "markdown",
      "source": [
        "b) Se necessário, faça comparações entre os pares de médias. Que conclusões você pode tirar?"
      ],
      "metadata": {
        "id": "85516C6yJ4Wp"
      }
    },
    {
      "cell_type": "code",
      "source": [
        "%%R\n",
        "# construção das listas com os valores para cada grupo\n",
        "Algodao_15 <- c(7,7,15,11,9)\n",
        "Algodao_20 <- c(12,17,12,18,18)\n",
        "Algodao_25 <- c(14,19,19,18,18)\n",
        "Algodao_30 <- c(19,25,22,19,23)\n",
        "Algodao_35 <- c(7,10,11,15,11)\n",
        "\n",
        "# montando um dataFrame com os grupos selecionados\n",
        "algodao <- data.frame(Algodao_15, Algodao_20, Algodao_25, Algodao_30, Algodao_35)\n",
        "\n",
        "#str é uma função para verificar os tipos de dados de cada grupos\n",
        "str(algodao)"
      ],
      "metadata": {
        "colab": {
          "base_uri": "https://localhost:8080/"
        },
        "id": "vrzdYSmdbuuS",
        "outputId": "1df81018-f9c4-43b5-b7d4-fce3c8a465ac"
      },
      "execution_count": 14,
      "outputs": [
        {
          "output_type": "stream",
          "name": "stdout",
          "text": [
            "'data.frame':\t5 obs. of  5 variables:\n",
            " $ Algodao_15: num  7 7 15 11 9\n",
            " $ Algodao_20: num  12 17 12 18 18\n",
            " $ Algodao_25: num  14 19 19 18 18\n",
            " $ Algodao_30: num  19 25 22 19 23\n",
            " $ Algodao_35: num  7 10 11 15 11\n"
          ]
        }
      ]
    },
    {
      "cell_type": "code",
      "source": [
        "%%R\n",
        "# verificando a normalidade dos dados com test de shapiro-wilk\n",
        "# https://pt.wikipedia.org/wiki/Teste_de_Shapiro%E2%80%93Wilk\n",
        "shapiro_a_15 <- shapiro.test(Algodao_15)\n",
        "shapiro_a_20 <- shapiro.test(Algodao_20)\n",
        "shapiro_a_25 <- shapiro.test(Algodao_25)\n",
        "shapiro_a_30 <- shapiro.test(Algodao_30)\n",
        "shapiro_a_35 <- shapiro.test(Algodao_35)"
      ],
      "metadata": {
        "id": "5RXbl_SS4Vta"
      },
      "execution_count": 15,
      "outputs": []
    },
    {
      "cell_type": "code",
      "source": [
        "%%R\n",
        "# resultado do test de shapiro-wilk para o grupo Algodao_15\n",
        "shapiro_a_15"
      ],
      "metadata": {
        "colab": {
          "base_uri": "https://localhost:8080/"
        },
        "id": "qJoUDx2X4-Cd",
        "outputId": "c10e5ccf-62a8-4937-8682-0201f8657261"
      },
      "execution_count": 16,
      "outputs": [
        {
          "output_type": "stream",
          "name": "stdout",
          "text": [
            "\n",
            "\tShapiro-Wilk normality test\n",
            "\n",
            "data:  Algodao_15\n",
            "W = 0.88104, p-value = 0.314\n",
            "\n"
          ]
        }
      ]
    },
    {
      "cell_type": "code",
      "source": [
        "%%R\n",
        "# resultado do test de shapiro-wilk para o grupo Algodao_20\n",
        "shapiro_a_20"
      ],
      "metadata": {
        "colab": {
          "base_uri": "https://localhost:8080/"
        },
        "id": "doJnj8Kz5HVq",
        "outputId": "94314331-baba-49b3-b30f-2968288d5ce8"
      },
      "execution_count": 17,
      "outputs": [
        {
          "output_type": "stream",
          "name": "stdout",
          "text": [
            "\n",
            "\tShapiro-Wilk normality test\n",
            "\n",
            "data:  Algodao_20\n",
            "W = 0.75383, p-value = 0.03228\n",
            "\n"
          ]
        }
      ]
    },
    {
      "cell_type": "code",
      "source": [
        "%%R\n",
        "# resultado do test de shapiro-wilk para o grupo Algodao_25\n",
        "shapiro_a_25"
      ],
      "metadata": {
        "colab": {
          "base_uri": "https://localhost:8080/"
        },
        "id": "Uaa1El4y5Kdd",
        "outputId": "706831f4-998d-41c5-fc14-d73706f627ad"
      },
      "execution_count": 18,
      "outputs": [
        {
          "output_type": "stream",
          "name": "stdout",
          "text": [
            "\n",
            "\tShapiro-Wilk normality test\n",
            "\n",
            "data:  Algodao_25\n",
            "W = 0.73872, p-value = 0.02332\n",
            "\n"
          ]
        }
      ]
    },
    {
      "cell_type": "code",
      "source": [
        "%%R\n",
        "# resultado do test de shapiro-wilk para o grupo Algodao_30\n",
        "shapiro_a_30"
      ],
      "metadata": {
        "colab": {
          "base_uri": "https://localhost:8080/"
        },
        "id": "ZNBsAvcg5NbM",
        "outputId": "bda7b643-e599-47ff-f961-9de19115593e"
      },
      "execution_count": 19,
      "outputs": [
        {
          "output_type": "stream",
          "name": "stdout",
          "text": [
            "\n",
            "\tShapiro-Wilk normality test\n",
            "\n",
            "data:  Algodao_30\n",
            "W = 0.90202, p-value = 0.4211\n",
            "\n"
          ]
        }
      ]
    },
    {
      "cell_type": "code",
      "source": [
        "%%R\n",
        "# resultado do test de shapiro-wilk para o grupo Algodao_35\n",
        "shapiro_a_35"
      ],
      "metadata": {
        "colab": {
          "base_uri": "https://localhost:8080/"
        },
        "id": "zcE8i-dJ5RV2",
        "outputId": "99b22405-9e22-403c-dae0-fa2d0d88ee20"
      },
      "execution_count": 20,
      "outputs": [
        {
          "output_type": "stream",
          "name": "stdout",
          "text": [
            "\n",
            "\tShapiro-Wilk normality test\n",
            "\n",
            "data:  Algodao_35\n",
            "W = 0.94197, p-value = 0.6799\n",
            "\n"
          ]
        }
      ]
    },
    {
      "cell_type": "markdown",
      "source": [
        "Podemos observar com o teste de shapiro-wilk que os grupos NÂO possue distribuição normal como p > 0.05"
      ],
      "metadata": {
        "id": "ZAz1gEcW6Szn"
      }
    },
    {
      "cell_type": "code",
      "source": [
        "%%R\n",
        "# pivot_longer()\"aumenta\" os dados, aumentando o número de linhas e diminuindo o número de colunas.\n",
        "# https://tidyr.tidyverse.org/reference/pivot_longer.html\n",
        "algodao <- algodao %>% pivot_longer(cols = everything(), names_to = \"algodao\")\n",
        "algodao"
      ],
      "metadata": {
        "colab": {
          "base_uri": "https://localhost:8080/"
        },
        "id": "PqXn44hAcSQT",
        "outputId": "ff88648d-2518-4a5b-be5e-0128319c80a9"
      },
      "execution_count": 21,
      "outputs": [
        {
          "output_type": "stream",
          "name": "stdout",
          "text": [
            "# A tibble: 25 × 2\n",
            "   algodao    value\n",
            "   <chr>      <dbl>\n",
            " 1 Algodao_15     7\n",
            " 2 Algodao_20    12\n",
            " 3 Algodao_25    14\n",
            " 4 Algodao_30    19\n",
            " 5 Algodao_35     7\n",
            " 6 Algodao_15     7\n",
            " 7 Algodao_20    17\n",
            " 8 Algodao_25    19\n",
            " 9 Algodao_30    25\n",
            "10 Algodao_35    10\n",
            "# … with 15 more rows\n",
            "# ℹ Use `print(n = ...)` to see more rows\n"
          ]
        }
      ]
    },
    {
      "cell_type": "code",
      "source": [
        "%%R\n",
        "# verificamos abaixo um grafico (boxplot), que mostra a distribuição dos dados, as medias e os outliers presentes no conjunto\n",
        "# https://pt.wikipedia.org/wiki/Diagrama_de_caixa\n",
        "boxplot(value ~ algodao, data = algodao, ylab=\"Valores\", xlab=\"% de algodao\")"
      ],
      "metadata": {
        "colab": {
          "base_uri": "https://localhost:8080/",
          "height": 497
        },
        "id": "70569Rh9y4ga",
        "outputId": "140dfc6d-b279-4769-e2a1-3fb6002aeb6a"
      },
      "execution_count": 62,
      "outputs": [
        {
          "output_type": "display_data",
          "data": {
            "image/png": "[encoded data removed]"
          },
          "metadata": {}
        }
      ]
    },
    {
      "cell_type": "code",
      "source": [
        "%%R\n",
        "# Grafico para mostra a distribuição dos dados\n",
        "ggplot(algodao, aes(x=value)) + geom_histogram(aes(y=..density..), colour=\"black\", fill=\"white\")+\n",
        " geom_density(alpha=.2, fill=\"#FF6666\") + ggtitle(\"Visualizando a normalidade dos dados\")"
      ],
      "metadata": {
        "colab": {
          "base_uri": "https://localhost:8080/",
          "height": 514
        },
        "id": "s8hLI2vE52Me",
        "outputId": "2e87661a-0c58-4063-86bf-d56524cac558"
      },
      "execution_count": 64,
      "outputs": [
        {
          "output_type": "stream",
          "name": "stdout",
          "text": [
            "`stat_bin()` using `bins = 30`. Pick better value with `binwidth`.\n"
          ]
        },
        {
          "output_type": "display_data",
          "data": {
            "image/png": "[encoded data removed]"
          },
          "metadata": {}
        }
      ]
    },
    {
      "cell_type": "code",
      "source": [
        "%%R\n",
        "# Teste de Kruskal-Wallis que nos mostra se há diferença entre os grupos\n",
        "kruskal_algodao <- kruskal.test(value ~ algodao, data = algodao)\n",
        "kruskal_algodao"
      ],
      "metadata": {
        "colab": {
          "base_uri": "https://localhost:8080/"
        },
        "id": "VSykDBJZ7Ek4",
        "outputId": "85b39a7a-735b-46d3-fac3-f02ca9026941"
      },
      "execution_count": 63,
      "outputs": [
        {
          "output_type": "stream",
          "name": "stdout",
          "text": [
            "\n",
            "\tKruskal-Wallis rank sum test\n",
            "\n",
            "data:  value by algodao\n",
            "Kruskal-Wallis chi-squared = 19.064, df = 4, p-value = 0.0007636\n",
            "\n"
          ]
        }
      ]
    },
    {
      "cell_type": "markdown",
      "source": [
        "O teste de Kruskal-Wallis nos mostra um resultado de p-value = 0.0007636\n",
        "Sendo assim, devemos rejeitar a H0, que nos diz que a mediana dos grupos são iguis e aceitar a H1 que nos diz que pelo menos um dos grupos tem um mediana diferente."
      ],
      "metadata": {
        "id": "DWX9kLbrk6-G"
      }
    },
    {
      "cell_type": "code",
      "source": [
        "%%R\n",
        "# teste de Dunn para análizar entre quais grupos existe as maiores variâncias\n",
        "# https://rdrr.io/cran/rstatix/man/dunn_test.html\n",
        "dunn_algodao <- dunn_test(value ~ algodao, data = algodao, p.adjust.method = \"bonferroni\")\n",
        "dunn_algodao"
      ],
      "metadata": {
        "colab": {
          "base_uri": "https://localhost:8080/"
        },
        "id": "yS7TMgWifkTA",
        "outputId": "15b2e4cd-05fc-42cb-f8c9-3c34cbe7cd20"
      },
      "execution_count": 40,
      "outputs": [
        {
          "output_type": "stream",
          "name": "stdout",
          "text": [
            "# A tibble: 10 × 9\n",
            "   .y.   group1     group2        n1    n2 statistic        p   p.adj p.adj.si…¹\n",
            " * <chr> <chr>      <chr>      <int> <int>     <dbl>    <dbl>   <dbl> <chr>     \n",
            " 1 value Algodao_15 Algodao_20     5     5     1.66  0.0961   0.961   ns        \n",
            " 2 value Algodao_15 Algodao_25     5     5     2.48  0.0130   0.130   ns        \n",
            " 3 value Algodao_15 Algodao_30     5     5     3.70  0.000220 0.00220 **        \n",
            " 4 value Algodao_15 Algodao_35     5     5     0.259 0.795    1       ns        \n",
            " 5 value Algodao_20 Algodao_25     5     5     0.821 0.412    1       ns        \n",
            " 6 value Algodao_20 Algodao_30     5     5     2.03  0.0422   0.422   ns        \n",
            " 7 value Algodao_20 Algodao_35     5     5    -1.40  0.160    1       ns        \n",
            " 8 value Algodao_25 Algodao_30     5     5     1.21  0.226    1       ns        \n",
            " 9 value Algodao_25 Algodao_35     5     5    -2.23  0.0260   0.260   ns        \n",
            "10 value Algodao_30 Algodao_35     5     5    -3.44  0.000591 0.00591 **        \n",
            "# … with abbreviated variable name ¹​p.adj.signif\n"
          ]
        }
      ]
    },
    {
      "cell_type": "markdown",
      "source": [
        "O teste de DUNN nos mostrando que há deferenças entre os grupos.\n",
        "O teste mostrou que há diferenças significativas entre a amostra de Algodão (15 - 30), (30 -25)"
      ],
      "metadata": {
        "id": "U7p8BMiZg7vu"
      }
    },
    {
      "cell_type": "markdown",
      "source": [
        "# 3. (2,0 pontos) A resistência à tração do cimento Portland está sendo estudada. Quatro diferentes técnicas de mistura foram usadas e os seguintes dados coletados:"
      ],
      "metadata": {
        "id": "O9wQ0rXtOBWZ"
      }
    },
    {
      "cell_type": "markdown",
      "source": [
        "a) Avalie se os pressupostos para a análise de variância são satisfeitos."
      ],
      "metadata": {
        "id": "4CYYIE6nOWNu"
      }
    },
    {
      "cell_type": "markdown",
      "source": [
        "b) Teste a hipótese de que a técnica de mistura afeta a resistência do cimento. Use α = 0,05 e justifique a\n",
        "escolha da técnica utilizada (ANOVA ou Kruskal-Wallis)."
      ],
      "metadata": {
        "id": "kOVsBWuGOZyG"
      }
    },
    {
      "cell_type": "markdown",
      "source": [
        "c) Se necessário, faça um teste de comparações múltiplas."
      ],
      "metadata": {
        "id": "Z00mDTFdOdnu"
      }
    },
    {
      "cell_type": "code",
      "source": [
        "%%R\n",
        "# construção das listas com os valores para cada grupo\n",
        "mistura_1 <- c(3129, 3000, 2865, 2890)\n",
        "mistura_2 <- c(3200, 3300, 2975, 3150)\n",
        "mistura_3 <- c(2800, 2900, 2985, 3050)\n",
        "mistura_4 <- c(2600, 2700, 2600, 2765)\n",
        "\n",
        "# montando um dataFrame com os grupos selecionados\n",
        "mistura <- data.frame(mistura_1, mistura_2, mistura_3, mistura_4)\n",
        "\n",
        "#str é uma função para verificar os tipos de dados de cada grupos\n",
        "str(mistura)"
      ],
      "metadata": {
        "colab": {
          "base_uri": "https://localhost:8080/"
        },
        "id": "BCP_AGIko2he",
        "outputId": "67edca4b-a73a-47e0-dbe4-44758fbb19ca"
      },
      "execution_count": 75,
      "outputs": [
        {
          "output_type": "stream",
          "name": "stdout",
          "text": [
            "'data.frame':\t4 obs. of  4 variables:\n",
            " $ mistura_1: num  3129 3000 2865 2890\n",
            " $ mistura_2: num  3200 3300 2975 3150\n",
            " $ mistura_3: num  2800 2900 2985 3050\n",
            " $ mistura_4: num  2600 2700 2600 2765\n"
          ]
        }
      ]
    },
    {
      "cell_type": "code",
      "source": [
        "%%R\n",
        "# verificando a normalidade dos dados com test de shapiro-wilk\n",
        "# https://pt.wikipedia.org/wiki/Teste_de_Shapiro%E2%80%93Wilk\n",
        "shapiro_mistura_1 <- shapiro.test(mistura_1)\n",
        "shapiro_mistura_2 <- shapiro.test(mistura_2)\n",
        "shapiro_mistura_3 <- shapiro.test(mistura_3)\n",
        "shapiro_mistura_4 <- shapiro.test(mistura_4)"
      ],
      "metadata": {
        "id": "OO0blJApsfTq"
      },
      "execution_count": 76,
      "outputs": []
    },
    {
      "cell_type": "code",
      "source": [
        "%%R\n",
        "# resultado do test de shapiro-wilk para o grupo mistura_1\n",
        "shapiro_mistura_1"
      ],
      "metadata": {
        "colab": {
          "base_uri": "https://localhost:8080/"
        },
        "id": "-drg4TXkv4aX",
        "outputId": "75a6e164-0c4f-4b55-e328-c181397648ba"
      },
      "execution_count": 77,
      "outputs": [
        {
          "output_type": "stream",
          "name": "stdout",
          "text": [
            "\n",
            "\tShapiro-Wilk normality test\n",
            "\n",
            "data:  mistura_1\n",
            "W = 0.91496, p-value = 0.5091\n",
            "\n"
          ]
        }
      ]
    },
    {
      "cell_type": "code",
      "source": [
        "%%R\n",
        "# resultado do test de shapiro-wilk para o grupo mistura_2\n",
        "shapiro_mistura_2"
      ],
      "metadata": {
        "colab": {
          "base_uri": "https://localhost:8080/"
        },
        "id": "D5QcL4T9wWY1",
        "outputId": "1a8eee78-a850-4000-d4e2-a5f75f48043b"
      },
      "execution_count": 78,
      "outputs": [
        {
          "output_type": "stream",
          "name": "stdout",
          "text": [
            "\n",
            "\tShapiro-Wilk normality test\n",
            "\n",
            "data:  mistura_2\n",
            "W = 0.96765, p-value = 0.8269\n",
            "\n"
          ]
        }
      ]
    },
    {
      "cell_type": "code",
      "source": [
        "%%R\n",
        "# resultado do test de shapiro-wilk para o grupo mistura_3\n",
        "shapiro_mistura_3"
      ],
      "metadata": {
        "colab": {
          "base_uri": "https://localhost:8080/"
        },
        "id": "iH2wdWVAwXft",
        "outputId": "0ebc0767-8e5b-44b0-af3c-dc66fde63e28"
      },
      "execution_count": 79,
      "outputs": [
        {
          "output_type": "stream",
          "name": "stdout",
          "text": [
            "\n",
            "\tShapiro-Wilk normality test\n",
            "\n",
            "data:  mistura_3\n",
            "W = 0.98323, p-value = 0.9207\n",
            "\n"
          ]
        }
      ]
    },
    {
      "cell_type": "code",
      "source": [
        "%%R\n",
        "# resultado do test de shapiro-wilk para o grupo mistura_4\n",
        "shapiro_mistura_4"
      ],
      "metadata": {
        "colab": {
          "base_uri": "https://localhost:8080/"
        },
        "id": "JsTVvXYTwYO6",
        "outputId": "cf70eb45-520b-45f3-cc8c-198b3c038c32"
      },
      "execution_count": 80,
      "outputs": [
        {
          "output_type": "stream",
          "name": "stdout",
          "text": [
            "\n",
            "\tShapiro-Wilk normality test\n",
            "\n",
            "data:  mistura_4\n",
            "W = 0.85966, p-value = 0.259\n",
            "\n"
          ]
        }
      ]
    },
    {
      "cell_type": "markdown",
      "source": [
        "Podemos observar com o teste de shapiro-wilk que pelo nemos um dos grupos NÂO possue distribuição normal como p > 0,5"
      ],
      "metadata": {
        "id": "cQmq_b_e1Zqw"
      }
    },
    {
      "cell_type": "code",
      "source": [
        "%%R\n",
        "# pivot_longer()\"aumenta\" os dados, aumentando o número de linhas e diminuindo o número de colunas.\n",
        "# https://tidyr.tidyverse.org/reference/pivot_longer.html\n",
        "mistura <- mistura %>% pivot_longer(cols = everything(), names_to = \"mistura\")\n",
        "mistura"
      ],
      "metadata": {
        "colab": {
          "base_uri": "https://localhost:8080/"
        },
        "id": "uehe2_7pqxph",
        "outputId": "5d3b1e2a-e4c5-47c5-e7c4-967508341135"
      },
      "execution_count": 81,
      "outputs": [
        {
          "output_type": "stream",
          "name": "stdout",
          "text": [
            "# A tibble: 16 × 2\n",
            "   mistura   value\n",
            "   <chr>     <dbl>\n",
            " 1 mistura_1  3129\n",
            " 2 mistura_2  3200\n",
            " 3 mistura_3  2800\n",
            " 4 mistura_4  2600\n",
            " 5 mistura_1  3000\n",
            " 6 mistura_2  3300\n",
            " 7 mistura_3  2900\n",
            " 8 mistura_4  2700\n",
            " 9 mistura_1  2865\n",
            "10 mistura_2  2975\n",
            "11 mistura_3  2985\n",
            "12 mistura_4  2600\n",
            "13 mistura_1  2890\n",
            "14 mistura_2  3150\n",
            "15 mistura_3  3050\n",
            "16 mistura_4  2765\n"
          ]
        }
      ]
    },
    {
      "cell_type": "code",
      "source": [
        "%%R\n",
        "# verificamos abaixo um grafico (boxplot), que mostra a distribuição dos dados, as medias e os outliers presentes no conjunto\n",
        "# https://pt.wikipedia.org/wiki/Diagrama_de_caixa\n",
        "boxplot(value ~ mistura, data = mistura, ylab=\"Valores\", xlab=\"Misturas\")"
      ],
      "metadata": {
        "colab": {
          "base_uri": "https://localhost:8080/",
          "height": 497
        },
        "id": "B-wlvyzA0hOs",
        "outputId": "a748d6ce-a4da-4601-93f7-7575002f751c"
      },
      "execution_count": 82,
      "outputs": [
        {
          "output_type": "display_data",
          "data": {
            "image/png": "[encoded data removed]"
          },
          "metadata": {}
        }
      ]
    },
    {
      "cell_type": "code",
      "source": [
        "%%R\n",
        "# Grafico para mostrar a distribuição dos dados\n",
        "ggplot(mistura, aes(x=value)) + geom_histogram(aes(y=..density..), colour=\"black\", fill=\"white\")+\n",
        " geom_density(alpha=.2, fill=\"#FF6666\") + ggtitle(\"Visualizando a normalidade dos dados\")"
      ],
      "metadata": {
        "colab": {
          "base_uri": "https://localhost:8080/",
          "height": 514
        },
        "id": "l7Jgt6ixw6Z2",
        "outputId": "2a763473-8480-4c84-f572-76468a4b86b4"
      },
      "execution_count": 83,
      "outputs": [
        {
          "output_type": "stream",
          "name": "stdout",
          "text": [
            "`stat_bin()` using `bins = 30`. Pick better value with `binwidth`.\n"
          ]
        },
        {
          "output_type": "display_data",
          "data": {
            "image/png": "[encoded data removed]"
          },
          "metadata": {}
        }
      ]
    },
    {
      "cell_type": "code",
      "source": [
        "%%R\n",
        "# Teste de Kruskal-Wallis que nos mostra se há diferença entre os grupos\n",
        "kruskal_mistura <- kruskal.test(value ~ mistura, data = mistura)\n",
        "kruskal_mistura"
      ],
      "metadata": {
        "colab": {
          "base_uri": "https://localhost:8080/"
        },
        "id": "XOgd6ZHPxVt5",
        "outputId": "84320664-02bd-411a-827c-731bcb69257b"
      },
      "execution_count": 84,
      "outputs": [
        {
          "output_type": "stream",
          "name": "stdout",
          "text": [
            "\n",
            "\tKruskal-Wallis rank sum test\n",
            "\n",
            "data:  value by mistura\n",
            "Kruskal-Wallis chi-squared = 10.891, df = 3, p-value = 0.01233\n",
            "\n"
          ]
        }
      ]
    },
    {
      "cell_type": "markdown",
      "source": [
        "O teste de Kruskal-Wallis nos mostra um resultado de p-value = 0.01233\n",
        "Sendo assim, devemos rejeitar a H0, que nos diz que a mediana dos grupos são iguais e aceitar a H1 que nos diz que pelo menos um dos grupos tem um mediana diferente."
      ],
      "metadata": {
        "id": "5PL-3bB3xjrL"
      }
    },
    {
      "cell_type": "code",
      "source": [
        "%%R\n",
        "# teste de Dunn para análizar entre quais grupos existe as maiores variâncias\n",
        "# https://rdrr.io/cran/rstatix/man/dunn_test.html\n",
        "dunn_mistura <- dunn_test(value ~ mistura, data = mistura, p.adjust.method = \"bonferroni\")\n",
        "dunn_mistura"
      ],
      "metadata": {
        "colab": {
          "base_uri": "https://localhost:8080/"
        },
        "id": "wnyr1mLt0SKm",
        "outputId": "2c805445-842b-4a03-8806-b0160f18a717"
      },
      "execution_count": 65,
      "outputs": [
        {
          "output_type": "stream",
          "name": "stdout",
          "text": [
            "# A tibble: 6 × 9\n",
            "  .y.   group1    group2       n1    n2 statistic       p   p.adj p.adj.signif\n",
            "* <chr> <chr>     <chr>     <int> <int>     <dbl>   <dbl>   <dbl> <chr>       \n",
            "1 value mistura_1 mistura_2     4     4     1.26  0.206   1       ns          \n",
            "2 value mistura_1 mistura_3     4     4    -0.149 0.882   1       ns          \n",
            "3 value mistura_1 mistura_4     4     4    -2.01  0.0448  0.269   ns          \n",
            "4 value mistura_2 mistura_3     4     4    -1.41  0.158   0.948   ns          \n",
            "5 value mistura_2 mistura_4     4     4    -3.27  0.00108 0.00646 **          \n",
            "6 value mistura_3 mistura_4     4     4    -1.86  0.0632  0.379   ns          \n"
          ]
        }
      ]
    },
    {
      "cell_type": "markdown",
      "source": [
        "O teste de DUNN nos mostrando que há diferenças entre os grupos.\n",
        "O teste mostrou que há diferenças significativas entre a amostra (mistura_2 mistura_4)"
      ],
      "metadata": {
        "id": "5sKNnZ9GyQV6"
      }
    },
    {
      "cell_type": "markdown",
      "source": [
        "# 4. (1,0 ponto) Em um teste com um tipo de fusível, 9 peças foram testadas com 25% de sobrecarga. O tempo médio até queimar dessa amostra foi x = 19,2 minutos, com desvio-padrão populacional conhecido = 2,4 minutos. Sabendo que a população é normal calcule o intervalo de confiança 95% para a média μ da população."
      ],
      "metadata": {
        "id": "2VtzdBbMOjNn"
      }
    },
    {
      "cell_type": "markdown",
      "source": [
        "![image.png](data:image/png;base64,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)"
      ],
      "metadata": {
        "id": "jZiM99G6GFVg"
      }
    },
    {
      "cell_type": "markdown",
      "source": [
        "# 5. (1,0 ponto) A eficácia da publicidade de duas marcas rivais de café foi comparada. Os participantes avaliaram anúncios das duas marcas e classificaram a probabilidade geral de comprar o produto (de 0 a 10, com 10 sendo \"definitivamente vai comprar\" o produto\"). Metade dos participantes deu notas para um dos produtos, a outra metade deu classificações para o outro produto."
      ],
      "metadata": {
        "id": "TCiXYXMvOyLk"
      }
    },
    {
      "cell_type": "markdown",
      "source": [
        "Determine o teste a ser usado para verificar se existe diferença entre os dois grupos, realize o teste escolhido com 95% de confiança e discuta o significado dos resultados."
      ],
      "metadata": {
        "id": "mQx-slHXO4Tw"
      }
    },
    {
      "cell_type": "code",
      "source": [
        "%%R\n",
        "# construção das listas com os valores para cada grupo\n",
        "marca_a <- c(3, 4, 2, 6, 2, 5)\n",
        "marca_b <- c(9, 7, 5, 10, 6, 8)\n",
        "\n",
        "# montando um dataFrame com os grupos selecionados\n",
        "marca <- data.frame(marca_a, marca_b)\n",
        "\n",
        "#str é uma função para verificar os tipos de dados de cada grupos\n",
        "str(marca)"
      ],
      "metadata": {
        "colab": {
          "base_uri": "https://localhost:8080/"
        },
        "id": "0-wB8w0d4CaG",
        "outputId": "0d2d7540-8212-4f12-a8d2-c023db6b46da"
      },
      "execution_count": 85,
      "outputs": [
        {
          "output_type": "stream",
          "name": "stdout",
          "text": [
            "'data.frame':\t6 obs. of  2 variables:\n",
            " $ marca_a: num  3 4 2 6 2 5\n",
            " $ marca_b: num  9 7 5 10 6 8\n"
          ]
        }
      ]
    },
    {
      "cell_type": "code",
      "source": [
        "%%R\n",
        "# verificando a normalidade dos dados com test de shapiro-wilk\n",
        "# https://pt.wikipedia.org/wiki/Teste_de_Shapiro%E2%80%93Wilk\n",
        "shapiro_marca_a <- shapiro.test(marca_a)\n",
        "shapiro_marca_b <- shapiro.test(marca_b)"
      ],
      "metadata": {
        "id": "hYQe6D6c4jBU"
      },
      "execution_count": 86,
      "outputs": []
    },
    {
      "cell_type": "code",
      "source": [
        "%%R\n",
        "# resultado do test de shapiro-wilk para o grupo marca_a\n",
        "shapiro_marca_a"
      ],
      "metadata": {
        "colab": {
          "base_uri": "https://localhost:8080/"
        },
        "id": "-REpaM8s4sVh",
        "outputId": "531fe24b-ac8e-4bb8-8c30-5d21a61e6506"
      },
      "execution_count": 87,
      "outputs": [
        {
          "output_type": "stream",
          "name": "stdout",
          "text": [
            "\n",
            "\tShapiro-Wilk normality test\n",
            "\n",
            "data:  marca_a\n",
            "W = 0.91994, p-value = 0.505\n",
            "\n"
          ]
        }
      ]
    },
    {
      "cell_type": "code",
      "source": [
        "%%R\n",
        "# resultado do test de shapiro-wilk para o grupo marca_b\n",
        "shapiro_marca_b"
      ],
      "metadata": {
        "colab": {
          "base_uri": "https://localhost:8080/"
        },
        "id": "nZpL8Yan4yUY",
        "outputId": "515d3183-a798-4954-e4cf-2a7335751c68"
      },
      "execution_count": 88,
      "outputs": [
        {
          "output_type": "stream",
          "name": "stdout",
          "text": [
            "\n",
            "\tShapiro-Wilk normality test\n",
            "\n",
            "data:  marca_b\n",
            "W = 0.98189, p-value = 0.9606\n",
            "\n"
          ]
        }
      ]
    },
    {
      "cell_type": "code",
      "source": [
        "%%R\n",
        "# pivot_longer()\"aumenta\" os dados, aumentando o número de linhas e diminuindo o número de colunas.\n",
        "# https://tidyr.tidyverse.org/reference/pivot_longer.html\n",
        "marca <- marca %>% pivot_longer(cols = everything(), names_to = \"marcas\")\n",
        "marca"
      ],
      "metadata": {
        "colab": {
          "base_uri": "https://localhost:8080/"
        },
        "id": "pCpXhG9i5QKF",
        "outputId": "f5475c2f-59d1-4f08-86ee-9c95cf741529"
      },
      "execution_count": 90,
      "outputs": [
        {
          "output_type": "stream",
          "name": "stdout",
          "text": [
            "# A tibble: 12 × 2\n",
            "   marcas  value\n",
            "   <chr>   <dbl>\n",
            " 1 marca_a     3\n",
            " 2 marca_b     9\n",
            " 3 marca_a     4\n",
            " 4 marca_b     7\n",
            " 5 marca_a     2\n",
            " 6 marca_b     5\n",
            " 7 marca_a     6\n",
            " 8 marca_b    10\n",
            " 9 marca_a     2\n",
            "10 marca_b     6\n",
            "11 marca_a     5\n",
            "12 marca_b     8\n"
          ]
        }
      ]
    },
    {
      "cell_type": "code",
      "source": [
        "%%R\n",
        "# verificamos abaixo um grafico (boxplot), que mostra a distribuição dos dados, as medias e os outliers presentes no conjunto\n",
        "# https://pt.wikipedia.org/wiki/Diagrama_de_caixa\n",
        "boxplot(value ~ marcas, data = marca, ylab=\"Valores\", xlab=\"Marcas de Café\")"
      ],
      "metadata": {
        "colab": {
          "base_uri": "https://localhost:8080/",
          "height": 497
        },
        "id": "_tdxwLwI50yF",
        "outputId": "7109f9fa-69c4-4113-c516-8d979be13818"
      },
      "execution_count": 91,
      "outputs": [
        {
          "output_type": "display_data",
          "data": {
            "image/png": "[encoded data removed]"
          },
          "metadata": {}
        }
      ]
    },
    {
      "cell_type": "code",
      "source": [
        "%%R\n",
        "# Grafico para mostrar a distribuição dos dados\n",
        "ggplot(marca, aes(x=value)) + geom_histogram(aes(y=..density..), colour=\"black\", fill=\"white\")+\n",
        " geom_density(alpha=.2, fill=\"#FF6666\") + ggtitle(\"Visualizando a normalidade dos dados\")"
      ],
      "metadata": {
        "colab": {
          "base_uri": "https://localhost:8080/",
          "height": 514
        },
        "id": "MGdj6YDZ6Ee6",
        "outputId": "40855ff9-97f5-42c2-ba6a-c0cbcd6be88c"
      },
      "execution_count": 96,
      "outputs": [
        {
          "output_type": "stream",
          "name": "stdout",
          "text": [
            "`stat_bin()` using `bins = 30`. Pick better value with `binwidth`.\n"
          ]
        },
        {
          "output_type": "display_data",
          "data": {
            "image/png": "[encoded data removed]"
          },
          "metadata": {}
        }
      ]
    },
    {
      "cell_type": "markdown",
      "source": [
        "##Hipóteses:\n",
        "\n",
        "H0: As duas amostras tem medianas iguais\n",
        "\n",
        "H1: As amostras tem medianas diferentes"
      ],
      "metadata": {
        "id": "qCdBei5A7ujo"
      }
    },
    {
      "cell_type": "code",
      "source": [
        "\n",
        "%%R\n",
        "# teste de Levene para verificar a homogeneidade de variancias\n",
        "# https://pt.wikipedia.org/wiki/Teste_de_Levene\n",
        "leveneTest(value ~ marcas, data = marca, center=mean)"
      ],
      "metadata": {
        "colab": {
          "base_uri": "https://localhost:8080/"
        },
        "id": "LlCUh8I_LxwE",
        "outputId": "fea76966-1e76-4ad2-8bb9-900a45a7e476"
      },
      "execution_count": 101,
      "outputs": [
        {
          "output_type": "stream",
          "name": "stdout",
          "text": [
            "Levene's Test for Homogeneity of Variance (center = mean)\n",
            "      Df F value Pr(>F)\n",
            "group  1   0.125  0.731\n",
            "      10               \n"
          ]
        }
      ]
    },
    {
      "cell_type": "code",
      "source": [
        "# teste ANOVA para análisar a variância entre os grupos\n",
        "# https://pt.wikipedia.org/wiki/An%C3%A1lise_de_vari%C3%A2ncia\n",
        "%%R\n",
        "anova_marca <- aov(value ~ marcas, data = marca)\n",
        "summary(anova_marca)"
      ],
      "metadata": {
        "colab": {
          "base_uri": "https://localhost:8080/"
        },
        "id": "8xAGEY5H6ovh",
        "outputId": "f6c8e1f0-de9b-48fc-900d-902b5c4f3f38"
      },
      "execution_count": 104,
      "outputs": [
        {
          "output_type": "stream",
          "name": "stdout",
          "text": [
            "            Df Sum Sq Mean Sq F value Pr(>F)   \n",
            "marcas       1  44.08   44.08    14.3 0.0036 **\n",
            "Residuals   10  30.83    3.08                  \n",
            "---\n",
            "Signif. codes:  0 ‘***’ 0.001 ‘**’ 0.01 ‘*’ 0.05 ‘.’ 0.1 ‘ ’ 1\n"
          ]
        }
      ]
    },
    {
      "cell_type": "markdown",
      "source": [
        "O teste da ANOVA que NÂO há diferença significativa entre as medias das amostras.\n",
        "Com isso, podemos aceitar a H1"
      ],
      "metadata": {
        "id": "vZO5K7Tv8Inw"
      }
    },
    {
      "cell_type": "code",
      "source": [
        "%%R\n",
        "# teste de tukey para análizar entre quais grupos existe as maiores variâncias\n",
        "# https://en.wikipedia.org/wiki/Tukey's_range_test\n",
        "TUKEY <- TukeyHSD(x=anova_marca, \"marcas\", conf.level=0.95, ordered = TRUE)\n",
        "TUKEY"
      ],
      "metadata": {
        "colab": {
          "base_uri": "https://localhost:8080/"
        },
        "id": "VzSJGbBJMn08",
        "outputId": "5d1cee42-55fc-4b0a-ad42-77fa689355ac"
      },
      "execution_count": 106,
      "outputs": [
        {
          "output_type": "stream",
          "name": "stdout",
          "text": [
            "  Tukey multiple comparisons of means\n",
            "    95% family-wise confidence level\n",
            "    factor levels have been ordered\n",
            "\n",
            "Fit: aov(formula = value ~ marcas, data = marca)\n",
            "\n",
            "$marcas\n",
            "                    diff     lwr      upr    p adj\n",
            "marca_b-marca_a 3.833333 1.57446 6.092207 0.003595\n",
            "\n"
          ]
        }
      ]
    },
    {
      "cell_type": "code",
      "source": [
        "%%R\n",
        "# grafico do teste de tuket que demostra as variâncias entre os grupos\n",
        "# https://r-graph-gallery.com/84-tukey-test.html\n",
        "plot(TUKEY, las=0, col=\"red\")"
      ],
      "metadata": {
        "colab": {
          "base_uri": "https://localhost:8080/",
          "height": 497
        },
        "id": "aBpphMxeNDAN",
        "outputId": "b530c94d-e5d7-4456-818a-ce5c8b85cbc4"
      },
      "execution_count": 107,
      "outputs": [
        {
          "output_type": "display_data",
          "data": {
            "image/png": "[encoded data removed]"
          },
          "metadata": {}
        }
      ]
    },
    {
      "cell_type": "markdown",
      "source": [
        "# 6. (1,0 ponto) Os dados a seguir indicam a soma de notas obtidas por um grupo de alunos, homens e mulheres, do curso de engenharia. Use o teste de Mann-Whitney para determinar se os valores diferem entre homens e mulheres.Investigue se os empates observados interferem no resultado."
      ],
      "metadata": {
        "id": "BUoIhEz1O_Vq"
      }
    },
    {
      "cell_type": "code",
      "source": [
        "# %%R\n",
        "# # construção das listas com os valores para cada grupo\n",
        "# homens <- data.frame(data=c(8, 6, 4, 2, 10, 5, 6, 6, 19, 4, 10, 4, 10, 12, 7, 2, 5, 1, 8, 2, 0, 7, 6, 4, 4, 11, 2, 16, 8, 7, 8, 4, 0, 2))   \n",
        "# mulheres <- data.frame(data=c(4, 7, 13, 4, 8, 8, 4, 14, 5, 6, 4, 12, 9, 9, 9, 8, 12, 10, 4, 8, 8, 4, 11, 6, 15, 9, 8, 14, 9, 8, 9, 7, 12, 11, 7, 3, 4, 10, 7, 8, 8, 7, 9, 10, 16, 14, 15, 10, 4, 6, 3, 9, 3, 8))\n",
        "\n",
        "# # montando um dataFrame com os grupos selecionados\n",
        "# alunos <- data.frame(homens, mulheres)\n",
        "\n",
        "# #str é uma função para verificar os tipos de dados de cada grupos\n",
        "# str(alunos)"
      ],
      "metadata": {
        "id": "B-Q5SI9JNz7i"
      },
      "execution_count": 118,
      "outputs": []
    },
    {
      "cell_type": "markdown",
      "source": [
        "# 7. (1,0 ponto) O batimento cardíaco de um grupo de sete alunos, em batimento por minuto (bpm), foi aferido antes do exercício (I), imediatamente após o exercício (II), e 5 minutos após o exercício (III). Use o teste estatístico de Friedman para avaliar as diferenças entre os valores nas três situações. Aplique o teste de comparações múltiplas não paramétrico, se necessário."
      ],
      "metadata": {
        "id": "Ag1W8rkVPIuC"
      }
    },
    {
      "cell_type": "code",
      "source": [
        "%%R\n",
        "# construção das listas com os valores para cada grupo\n",
        "exercicio_1 <- c(72, 96, 88, 92, 74, 76, 82)\n",
        "exercicio_2 <- c(120, 120, 132, 120, 101, 96, 112)\n",
        "exercicio_3 <- c(76, 95, 104, 96, 84, 72, 76)\n",
        "\n",
        "# montando um dataFrame com os grupos selecionados\n",
        "exercicio <- data.frame(exercicio_1, exercicio_2, exercicio_3)\n",
        "\n",
        "#str é uma função para verificar os tipos de dados de cada grupos\n",
        "str(exercicio)"
      ],
      "metadata": {
        "id": "yB69aXqLYF74",
        "outputId": "9e619922-61a7-45ca-ed26-2afb3dad59c3",
        "colab": {
          "base_uri": "https://localhost:8080/"
        }
      },
      "execution_count": 189,
      "outputs": [
        {
          "output_type": "stream",
          "name": "stdout",
          "text": [
            "'data.frame':\t7 obs. of  3 variables:\n",
            " $ exercicio_1: num  72 96 88 92 74 76 82\n",
            " $ exercicio_2: num  120 120 132 120 101 96 112\n",
            " $ exercicio_3: num  76 95 104 96 84 72 76\n"
          ]
        }
      ]
    },
    {
      "cell_type": "code",
      "source": [
        "%%R\n",
        "# verificando a normalidade dos dados com test de shapiro-wilk\n",
        "# https://pt.wikipedia.org/wiki/Teste_de_Shapiro%E2%80%93Wilk\n",
        "shapiro_1 <- shapiro.test(exercicio_1)\n",
        "shapiro_2 <- shapiro.test(exercicio_2)\n",
        "shapiro_3 <- shapiro.test(exercicio_3)"
      ],
      "metadata": {
        "id": "Laq9bvhKY0RC"
      },
      "execution_count": 155,
      "outputs": []
    },
    {
      "cell_type": "code",
      "source": [
        "%%R\n",
        "# resultado do test de shapiro-wilk para o grupo exercicio_1\n",
        "shapiro_1"
      ],
      "metadata": {
        "id": "OuAefBNlY8ss",
        "outputId": "e9301306-33c0-47ea-c5bb-bc30acefc511",
        "colab": {
          "base_uri": "https://localhost:8080/"
        }
      },
      "execution_count": 156,
      "outputs": [
        {
          "output_type": "stream",
          "name": "stdout",
          "text": [
            "\n",
            "\tShapiro-Wilk normality test\n",
            "\n",
            "data:  exercicio_1\n",
            "W = 0.92723, p-value = 0.5276\n",
            "\n"
          ]
        }
      ]
    },
    {
      "cell_type": "code",
      "source": [
        "%%R\n",
        "# resultado do test de shapiro-wilk para o grupo exercicio_2\n",
        "shapiro_2"
      ],
      "metadata": {
        "id": "lrvPWa5qZCxd",
        "outputId": "23cfbd0f-e835-4738-f932-cc6964bd3dd7",
        "colab": {
          "base_uri": "https://localhost:8080/"
        }
      },
      "execution_count": 157,
      "outputs": [
        {
          "output_type": "stream",
          "name": "stdout",
          "text": [
            "\n",
            "\tShapiro-Wilk normality test\n",
            "\n",
            "data:  exercicio_2\n",
            "W = 0.92653, p-value = 0.5218\n",
            "\n"
          ]
        }
      ]
    },
    {
      "cell_type": "code",
      "source": [
        "%%R\n",
        "# resultado do test de shapiro-wilk para o grupo exercicio_3\n",
        "shapiro_3"
      ],
      "metadata": {
        "id": "QM-qH0TnZF63",
        "outputId": "fa9fa14e-6a04-4c98-e300-8f9c70c468b8",
        "colab": {
          "base_uri": "https://localhost:8080/"
        }
      },
      "execution_count": 158,
      "outputs": [
        {
          "output_type": "stream",
          "name": "stdout",
          "text": [
            "\n",
            "\tShapiro-Wilk normality test\n",
            "\n",
            "data:  exercicio_3\n",
            "W = 0.90911, p-value = 0.3897\n",
            "\n"
          ]
        }
      ]
    },
    {
      "cell_type": "code",
      "source": [
        "%%R\n",
        "# pivot_longer()\"aumenta\" os dados, aumentando o número de linhas e diminuindo o número de colunas.\n",
        "# https://tidyr.tidyverse.org/reference/pivot_longer.html\n",
        "exercicio <- exercicio %>% pivot_longer(cols = everything(), names_to = \"exercicios\")\n",
        "exercicio"
      ],
      "metadata": {
        "id": "RyvF83fOZlQt",
        "outputId": "c11711fb-046e-4fb2-a2db-efa210dd5697",
        "colab": {
          "base_uri": "https://localhost:8080/"
        }
      },
      "execution_count": 177,
      "outputs": [
        {
          "output_type": "stream",
          "name": "stdout",
          "text": [
            "# A tibble: 21 × 2\n",
            "   exercicios  value\n",
            "   <chr>       <dbl>\n",
            " 1 exercicio_1    72\n",
            " 2 exercicio_2   120\n",
            " 3 exercicio_3    76\n",
            " 4 exercicio_1    96\n",
            " 5 exercicio_2   120\n",
            " 6 exercicio_3    95\n",
            " 7 exercicio_1    88\n",
            " 8 exercicio_2   132\n",
            " 9 exercicio_3   104\n",
            "10 exercicio_1    92\n",
            "# … with 11 more rows\n",
            "# ℹ Use `print(n = ...)` to see more rows\n"
          ]
        }
      ]
    },
    {
      "cell_type": "code",
      "source": [
        "%%R\n",
        "ggplot(exercicio, aes(x=value)) + geom_histogram(aes(y=..density..), colour=\"black\", fill=\"white\")+\n",
        " geom_density(alpha=.2, fill=\"#FF6666\") + ggtitle(\"Visualizando a normalidade dos dados\")"
      ],
      "metadata": {
        "id": "yw3LClcpZz3M",
        "outputId": "7a6133ff-dfbe-4c64-c979-bc9e4d954316",
        "colab": {
          "base_uri": "https://localhost:8080/",
          "height": 514
        }
      },
      "execution_count": 160,
      "outputs": [
        {
          "output_type": "stream",
          "name": "stdout",
          "text": [
            "`stat_bin()` using `bins = 30`. Pick better value with `binwidth`.\n"
          ]
        },
        {
          "output_type": "display_data",
          "data": {
            "image/png": "[encoded data removed]"
          },
          "metadata": {}
        }
      ]
    },
    {
      "cell_type": "code",
      "source": [
        "%%R\n",
        "# verificamos abaixo um grafico (boxplot), que mostra a distribuição dos dados, as medias e os outliers presentes no conjunto\n",
        "# https://pt.wikipedia.org/wiki/Diagrama_de_caixa\n",
        "boxplot(value ~  exercicios, data =  exercicio, ylab=\"Valores\", xlab=\"Exercicios\")"
      ],
      "metadata": {
        "id": "5zm7ItnPZ9Qj",
        "outputId": "160ac7ea-3230-4b32-f0ba-5547a8128533",
        "colab": {
          "base_uri": "https://localhost:8080/",
          "height": 497
        }
      },
      "execution_count": 161,
      "outputs": [
        {
          "output_type": "display_data",
          "data": {
            "image/png": "[encoded data removed]"
          },
          "metadata": {}
        }
      ]
    },
    {
      "cell_type": "markdown",
      "source": [
        "## Hipóteses:\n",
        "\n",
        "H0: Os dados se comportam de forma similar\n",
        "\n",
        "H1: Pelo menos um dos grupos difere dos demais"
      ],
      "metadata": {
        "id": "enGjgTslafOx"
      }
    },
    {
      "cell_type": "code",
      "source": [
        "%%R\n",
        "mydata <- exercicio\n",
        "mydata$ID <- seq.int(nrow(mydata))\n",
        "mydata$ID <- factor(mydata$ID)\n",
        "mydata$exercicios <- factor(mydata$exercicios)\n",
        "str(mydata)"
      ],
      "metadata": {
        "id": "6KWfovLPk5rZ",
        "outputId": "a1e6489b-1e71-4a02-c2fe-9a98fb99b842",
        "colab": {
          "base_uri": "https://localhost:8080/"
        }
      },
      "execution_count": 184,
      "outputs": [
        {
          "output_type": "stream",
          "name": "stdout",
          "text": [
            "tibble [21 × 3] (S3: tbl_df/tbl/data.frame)\n",
            " $ exercicios: Factor w/ 3 levels \"exercicio_1\",..: 1 2 3 1 2 3 1 2 3 1 ...\n",
            " $ value     : num [1:21] 72 120 76 96 120 95 88 132 104 92 ...\n",
            " $ ID        : Factor w/ 21 levels \"1\",\"2\",\"3\",\"4\",..: 1 2 3 4 5 6 7 8 9 10 ...\n"
          ]
        }
      ]
    },
    {
      "cell_type": "code",
      "source": [
        "%%R\n",
        "testeFriedman <- friedman.test(value ~ exercicios | ID, data=mydata)"
      ],
      "metadata": {
        "id": "y1qzjgTkagdn"
      },
      "execution_count": null,
      "outputs": []
    },
    {
      "cell_type": "markdown",
      "source": [
        "# 8. (1,0 ponto) Use o teste de comparações múltiplas da menor diferença significativa para avaliar os resultados do exercício a seguir. Antes, faça o teste de Kruskall-Wallis."
      ],
      "metadata": {
        "id": "XGSZ2l2HPXt8"
      }
    },
    {
      "cell_type": "markdown",
      "source": [
        "# 9. (1,0 ponto) Considere os dados abaixo sobre os 574 gols marcados nas 232 partidas em Copas do Mundo de futebol, desde a Copa do Uruguai em 1930 até a Copa do Japão/Coreia em 2002. Os dados foram organizados em classes que representam intervalos de tempo entre gols sucessivos. Utilizando o teste Qui-quadrado verifique aderência ao modelo de Exponencial."
      ],
      "metadata": {
        "id": "lq63EQMPPeHW"
      }
    },
    {
      "cell_type": "markdown",
      "source": [
        "Dica: a distribuição exponencial é usada para descrever intervalos de tempo entre eventos sucessivos e possui a\n",
        "seguinte expressão: f(x) = λ*e-λx"
      ],
      "metadata": {
        "id": "cNhElFCGPmVg"
      }
    }
  ]
}