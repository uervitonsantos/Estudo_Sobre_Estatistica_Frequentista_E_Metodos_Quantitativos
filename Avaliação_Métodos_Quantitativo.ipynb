{
  "nbformat": 4,
  "nbformat_minor": 0,
  "metadata": {
    "colab": {
      "provenance": [],
      "authorship_tag": "ABX9TyOyLw2+KNxw5CGn4VBkNV/j",
      "include_colab_link": true
    },
    "kernelspec": {
      "name": "python3",
      "display_name": "Python 3"
    },
    "language_info": {
      "name": "python"
    }
  },
  "cells": [
    {
      "cell_type": "markdown",
      "metadata": {
        "id": "view-in-github",
        "colab_type": "text"
      },
      "source": [
        "<a href=\"https://colab.research.google.com/github/uervitonsantos/Exercicios_Metodos_Quantitativos/blob/main/Avalia%C3%A7%C3%A3o_M%C3%A9todos_Quantitativo.ipynb\" target=\"_parent\"><img src=\"https://colab.research.google.com/assets/colab-badge.svg\" alt=\"Open In Colab\"/></a>"
      ]
    },
    {
      "cell_type": "markdown",
      "source": [
        "## Metodos Quantitativos"
      ],
      "metadata": {
        "id": "vBAteMN7Iz4y"
      }
    },
    {
      "cell_type": "code",
      "source": [
        "# rpy2 fornece uma interface que permite executar R em processos Python.\n",
        "!pip install rpy2"
      ],
      "metadata": {
        "id": "WE4MDPkNRpEd"
      },
      "execution_count": null,
      "outputs": []
    },
    {
      "cell_type": "code",
      "source": [
        "%load_ext rpy2.ipython"
      ],
      "metadata": {
        "id": "lSGra-J2RwXj"
      },
      "execution_count": null,
      "outputs": []
    },
    {
      "cell_type": "code",
      "source": [
        "%%R\n",
        "# install e chamada dos pacotes necessarios para o analise dos dados\n",
        "if(!require(tidyverse))\n",
        "install.packages(\"tidyverse\")\n",
        "if(!require(RVAideMemoire))\n",
        "install.packages(\"nortest\")\n",
        "if(!require(psych))\n",
        "install.packages(\"psych\")\n",
        "if(!require(rstatix))\n",
        "install.packages(\"rstatix\")\n",
        "if(!require(car))\n",
        "install.packages(\"car\")\n",
        "if(!require(DescTools))\n",
        "install.packages(\"DescTools\")"
      ],
      "metadata": {
        "id": "uTdO-MY1R3JK"
      },
      "execution_count": null,
      "outputs": []
    },
    {
      "cell_type": "code",
      "source": [
        "%%R\n",
        "library(dplyr)\n",
        "library(tidyverse)\n",
        "library(tidyr)\n",
        "library(ggplot2)\n",
        "library(nortest)\n",
        "library(psych)\n",
        "library(rstatix)\n",
        "library(car)\n",
        "library(DescTools)"
      ],
      "metadata": {
        "id": "Ebj-tDxJSjef"
      },
      "execution_count": 30,
      "outputs": []
    },
    {
      "cell_type": "markdown",
      "source": [
        "# 1. (1,0 ponto) A temperatura de deformação sob carga de duas formulações diferentes de tubos plásticos está sendo estudada. Duas amostras de 12 observações são preparadas usando cada formulação, as temperaturas de deformação (em °F) são relatadas a seguir:"
      ],
      "metadata": {
        "id": "E2CvRmyBJACb"
      }
    },
    {
      "cell_type": "markdown",
      "source": [
        "a) Os dados apoiam a alegação de que a temperatura média de deformação sob carga para a formulação 1 é\n",
        "maior que a da formulação 2? Use α = 0,05."
      ],
      "metadata": {
        "id": "06zExhj8JkP8"
      }
    },
    {
      "cell_type": "code",
      "source": [
        "%%R\n",
        "# construção das listas com os valores para cada grupo\n",
        "FORMULACAO_1 <- c(212, 199, 198, 194, 213, 216, 211, 191, 200, 193, 195, 184)\n",
        "FORMULACAO_2 <- c(177, 176, 198, 197, 185, 188, 206, 200, 189, 201, 197, 203)"
      ],
      "metadata": {
        "id": "WNcQP-PuVldX"
      },
      "execution_count": 45,
      "outputs": []
    },
    {
      "cell_type": "code",
      "source": [
        "%%R\n",
        "# Para comparar a média de cada um desses dois grupos, usamos a função t.test().\n",
        "# http://rstudio-pubs-static.s3.amazonaws.com/408638_6679293d4c7a415eaebe00faa3aea0cb.html\n",
        "t.test(FORMULACAO_1, FORMULACAO_2, conf.level  = 0.95)"
      ],
      "metadata": {
        "colab": {
          "base_uri": "https://localhost:8080/"
        },
        "id": "xZpizKtEg0Wm",
        "outputId": "6d1c375e-5a50-4184-8d36-abb9d52632c7"
      },
      "execution_count": 64,
      "outputs": [
        {
          "output_type": "stream",
          "name": "stdout",
          "text": [
            "\n",
            "\tWelch Two Sample t-test\n",
            "\n",
            "data:  FORMULACAO_1 and FORMULACAO_2\n",
            "t = 1.8053, df = 21.989, p-value = 0.08474\n",
            "alternative hypothesis: true difference in means is not equal to 0\n",
            "95 percent confidence interval:\n",
            " -1.103683 15.937016\n",
            "sample estimates:\n",
            "mean of x mean of y \n",
            " 200.5000  193.0833 \n",
            "\n"
          ]
        }
      ]
    },
    {
      "cell_type": "code",
      "source": [
        "%%R\n",
        "\n",
        "# montando um dataFrame com os grupos selecionados\n",
        "FORMULACAO <- data.frame(FORMULACAO_1, FORMULACAO_2)\n",
        "\n",
        "#str é uma função para verificar os tipos de dados de cada grupos\n",
        "str(FORMULACAO)"
      ],
      "metadata": {
        "colab": {
          "base_uri": "https://localhost:8080/"
        },
        "id": "0V28IFiViPGN",
        "outputId": "87fd1e06-7f0d-4556-f5ae-1881a2314e1d"
      },
      "execution_count": 55,
      "outputs": [
        {
          "output_type": "stream",
          "name": "stdout",
          "text": [
            "'data.frame':\t12 obs. of  2 variables:\n",
            " $ FORMULACAO_1: num  212 199 198 194 213 216 211 191 200 193 ...\n",
            " $ FORMULACAO_2: num  177 176 198 197 185 188 206 200 189 201 ...\n"
          ]
        }
      ]
    },
    {
      "cell_type": "code",
      "source": [
        "%%R\n",
        "# pivot_longer()\"aumenta\" os dados, aumentando o número de linhas e diminuindo o número de colunas.\n",
        "# https://tidyr.tidyverse.org/reference/pivot_longer.html\n",
        "FORMULACAO <- FORMULACAO %>% pivot_longer(cols = everything(), names_to = \"FORMULACAO\")\n",
        "FORMULACAO"
      ],
      "metadata": {
        "colab": {
          "base_uri": "https://localhost:8080/"
        },
        "id": "iMG-ZSPXiX9s",
        "outputId": "22f77043-100a-423c-e5be-42dd5e0a81ee"
      },
      "execution_count": 56,
      "outputs": [
        {
          "output_type": "stream",
          "name": "stdout",
          "text": [
            "# A tibble: 24 × 2\n",
            "   FORMULACAO   value\n",
            "   <chr>        <dbl>\n",
            " 1 FORMULACAO_1   212\n",
            " 2 FORMULACAO_2   177\n",
            " 3 FORMULACAO_1   199\n",
            " 4 FORMULACAO_2   176\n",
            " 5 FORMULACAO_1   198\n",
            " 6 FORMULACAO_2   198\n",
            " 7 FORMULACAO_1   194\n",
            " 8 FORMULACAO_2   197\n",
            " 9 FORMULACAO_1   213\n",
            "10 FORMULACAO_2   185\n",
            "# … with 14 more rows\n",
            "# ℹ Use `print(n = ...)` to see more rows\n"
          ]
        }
      ]
    },
    {
      "cell_type": "code",
      "source": [
        "%%R\n",
        "# verificamos abaixo um grafico (boxplot), que mostra a distribuição dos dados, as medias e os outliers presentes no conjunto\n",
        "# https://pt.wikipedia.org/wiki/Diagrama_de_caixa\n",
        "boxplot(value ~ FORMULACAO, data = FORMULACAO, ylab=\"Valores\", xlab=\"Formulações\")"
      ],
      "metadata": {
        "colab": {
          "base_uri": "https://localhost:8080/",
          "height": 497
        },
        "id": "4O9HYyT2eHPO",
        "outputId": "503dbbce-599f-4579-c776-274db9fb42af"
      },
      "execution_count": 57,
      "outputs": [
        {
          "output_type": "display_data",
          "data": {
            "image/png": "[encoded data removed]"
          },
          "metadata": {}
        }
      ]
    },
    {
      "cell_type": "markdown",
      "source": [
        "# 2. (1,0 ponto) O fabricante de um produto está investigando a resistência à ruptura de uma nova fibra sintética, que será utilizada para confecção de camisas de uso masculino. A resistência é geralmente afetada pela porcentagem de algodão usado na mistura de materiais para a fibra. O fabricante realizou um experimento com cinco níveis do conteúdo de algodão e reproduziu o experimento cinco vezes. Os dados estão apresentados na tabela a seguir."
      ],
      "metadata": {
        "id": "MTnAX8tDJ8c9"
      }
    },
    {
      "cell_type": "markdown",
      "source": [
        "a) Há evidências para apoiar a alegação de que a porcentagem de algodão afeta a média de resistência da nova\n",
        "fibra? Use α = 0,05."
      ],
      "metadata": {
        "id": "djumfL0gJ04D"
      }
    },
    {
      "cell_type": "markdown",
      "source": [
        "b) Se necessário, faça comparações entre os pares de médias. Que conclusões você pode tirar?"
      ],
      "metadata": {
        "id": "85516C6yJ4Wp"
      }
    },
    {
      "cell_type": "markdown",
      "source": [
        "# 3. (2,0 pontos) A resistência à tração do cimento Portland está sendo estudada. Quatro diferentes técnicas de mistura foram usadas e os seguintes dados coletados:"
      ],
      "metadata": {
        "id": "O9wQ0rXtOBWZ"
      }
    },
    {
      "cell_type": "markdown",
      "source": [
        "a) Avalie se os pressupostos para a análise de variância são satisfeitos."
      ],
      "metadata": {
        "id": "4CYYIE6nOWNu"
      }
    },
    {
      "cell_type": "markdown",
      "source": [
        "b) Teste a hipótese de que a técnica de mistura afeta a resistência do cimento. Use α = 0,05 e justifique a\n",
        "escolha da técnica utilizada (ANOVA ou Kruskal-Wallis)."
      ],
      "metadata": {
        "id": "kOVsBWuGOZyG"
      }
    },
    {
      "cell_type": "markdown",
      "source": [
        "c) Se necessário, faça um teste de comparações múltiplas."
      ],
      "metadata": {
        "id": "Z00mDTFdOdnu"
      }
    },
    {
      "cell_type": "markdown",
      "source": [
        "# 4. (1,0 ponto) Em um teste com um tipo de fusível, 9 peças foram testadas com 25% de sobrecarga. O tempo médio até queimar dessa amostra foi x 19, 2 minutos, com desvio-padrão populacional conhecido   2, 4 minutos. Sabendo que a população é normal calcule o intervalo de confiança 95% para a média μ da população."
      ],
      "metadata": {
        "id": "2VtzdBbMOjNn"
      }
    },
    {
      "cell_type": "markdown",
      "source": [
        "# 5. (1,0 ponto) A eficácia da publicidade de duas marcas rivais de café foi comparada. Os participantes avaliaram\n",
        "anúncios das duas marcas e classificaram a probabilidade geral de comprar o produto (de 0 a 10, com 10 sendo\n",
        "\"definitivamente vai comprar\" o produto\"). Metade dos participantes deu notas para um dos produtos, a outra metade\n",
        "deu classificações para o outro produto."
      ],
      "metadata": {
        "id": "TCiXYXMvOyLk"
      }
    },
    {
      "cell_type": "markdown",
      "source": [
        "Determine o teste a ser usado para verificar se existe diferença entre os dois grupos, realize o teste escolhido com 95% de confiança e discuta o significado dos resultados."
      ],
      "metadata": {
        "id": "mQx-slHXO4Tw"
      }
    },
    {
      "cell_type": "markdown",
      "source": [
        "# 6. (1,0 ponto) Os dados a seguir indicam a soma de notas obtidas por um grupo de alunos, homens e mulheres, do curso de engenharia. Use o teste de Mann-Whitney para determinar se os valores diferem entre homens e mulheres.Investigue se os empates observados interferem no resultado."
      ],
      "metadata": {
        "id": "BUoIhEz1O_Vq"
      }
    },
    {
      "cell_type": "markdown",
      "source": [
        "# 7. (1,0 ponto) O batimento cardíaco de um grupo de sete alunos, em batimento por minuto (bpm), foi aferido antes do exercício (I), imediatamente após o exercício (II), e 5 minutos após o exercício (III). Use o teste estatístico de Friedman para avaliar as diferenças entre os valores nas três situações. Aplique o teste de comparações múltiplas não paramétrico, se necessário."
      ],
      "metadata": {
        "id": "Ag1W8rkVPIuC"
      }
    },
    {
      "cell_type": "markdown",
      "source": [
        "# 8. (1,0 ponto) Use o teste de comparações múltiplas da menor diferença significativa para avaliar os resultados do exercício a seguir. Antes, faça o teste de Kruskall-Wallis."
      ],
      "metadata": {
        "id": "XGSZ2l2HPXt8"
      }
    },
    {
      "cell_type": "markdown",
      "source": [
        "# 9. (1,0 ponto) Considere os dados abaixo sobre os 574 gols marcados nas 232 partidas em Copas do Mundo de futebol, desde a Copa do Uruguai em 1930 até a Copa do Japão/Coreia em 2002. Os dados foram organizados em classes que representam intervalos de tempo entre gols sucessivos. Utilizando o teste Qui-quadrado verifique aderência ao modelo de Exponencial."
      ],
      "metadata": {
        "id": "lq63EQMPPeHW"
      }
    },
    {
      "cell_type": "markdown",
      "source": [
        "Dica: a distribuição exponencial é usada para descrever intervalos de tempo entre eventos sucessivos e possui a\n",
        "seguinte expressão: f(x) = λ*e-λx"
      ],
      "metadata": {
        "id": "cNhElFCGPmVg"
      }
    }
  ]
}