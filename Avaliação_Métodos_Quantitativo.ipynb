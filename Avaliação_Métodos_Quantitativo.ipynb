{
  "nbformat": 4,
  "nbformat_minor": 0,
  "metadata": {
    "colab": {
      "provenance": [],
      "toc_visible": true,
      "authorship_tag": "ABX9TyNYRIAdnAkk7bGq02Q8BNRz",
      "include_colab_link": true
    },
    "kernelspec": {
      "name": "python3",
      "display_name": "Python 3"
    },
    "language_info": {
      "name": "python"
    }
  },
  "cells": [
    {
      "cell_type": "markdown",
      "metadata": {
        "id": "view-in-github",
        "colab_type": "text"
      },
      "source": [
        "<a href=\"https://colab.research.google.com/github/uervitonsantos/Exercicios_Metodos_Quantitativos/blob/main/Avalia%C3%A7%C3%A3o_M%C3%A9todos_Quantitativo.ipynb\" target=\"_parent\"><img src=\"https://colab.research.google.com/assets/colab-badge.svg\" alt=\"Open In Colab\"/></a>"
      ]
    },
    {
      "cell_type": "markdown",
      "source": [
        "## Metodos Quantitativos"
      ],
      "metadata": {
        "id": "vBAteMN7Iz4y"
      }
    },
    {
      "cell_type": "code",
      "source": [
        "# rpy2 fornece uma interface que permite executar R em processos Python.\n",
        "!pip install rpy2"
      ],
      "metadata": {
        "colab": {
          "base_uri": "https://localhost:8080/"
        },
        "id": "WE4MDPkNRpEd",
        "outputId": "bcc3dd16-f54e-4db8-e79b-a5455b859f9b"
      },
      "execution_count": 1,
      "outputs": [
        {
          "output_type": "stream",
          "name": "stdout",
          "text": [
            "Looking in indexes: https://pypi.org/simple, https://us-python.pkg.dev/colab-wheels/public/simple/\n",
            "Requirement already satisfied: rpy2 in /usr/local/lib/python3.8/dist-packages (3.5.5)\n",
            "Requirement already satisfied: cffi>=1.10.0 in /usr/local/lib/python3.8/dist-packages (from rpy2) (1.15.1)\n",
            "Requirement already satisfied: tzlocal in /usr/local/lib/python3.8/dist-packages (from rpy2) (1.5.1)\n",
            "Requirement already satisfied: pytz in /usr/local/lib/python3.8/dist-packages (from rpy2) (2022.6)\n",
            "Requirement already satisfied: jinja2 in /usr/local/lib/python3.8/dist-packages (from rpy2) (2.11.3)\n",
            "Requirement already satisfied: pycparser in /usr/local/lib/python3.8/dist-packages (from cffi>=1.10.0->rpy2) (2.21)\n",
            "Requirement already satisfied: MarkupSafe>=0.23 in /usr/local/lib/python3.8/dist-packages (from jinja2->rpy2) (2.0.1)\n"
          ]
        }
      ]
    },
    {
      "cell_type": "code",
      "source": [
        "%load_ext rpy2.ipython"
      ],
      "metadata": {
        "id": "lSGra-J2RwXj"
      },
      "execution_count": 2,
      "outputs": []
    },
    {
      "cell_type": "code",
      "source": [
        "%%R\n",
        "# install e chamada dos pacotes necessarios para o analise dos dados\n",
        "if(!require(tidyverse))\n",
        "install.packages(\"tidyverse\")\n",
        "if(!require(RVAideMemoire))\n",
        "install.packages(\"nortest\")\n",
        "if(!require(psych))\n",
        "install.packages(\"psych\")\n",
        "if(!require(rstatix))\n",
        "install.packages(\"rstatix\")\n",
        "if(!require(car))\n",
        "install.packages(\"car\")\n",
        "if(!require(DescTools))\n",
        "install.packages(\"DescTools\")"
      ],
      "metadata": {
        "id": "uTdO-MY1R3JK"
      },
      "execution_count": null,
      "outputs": []
    },
    {
      "cell_type": "code",
      "source": [
        "%%R\n",
        "library(dplyr)\n",
        "library(tidyverse)\n",
        "library(tidyr)\n",
        "library(ggplot2)\n",
        "library(nortest)\n",
        "library(psych)\n",
        "library(rstatix)\n",
        "library(car)\n",
        "library(DescTools)"
      ],
      "metadata": {
        "id": "Ebj-tDxJSjef"
      },
      "execution_count": 6,
      "outputs": []
    },
    {
      "cell_type": "markdown",
      "source": [
        "# 1. (1,0 ponto) A temperatura de deformação sob carga de duas formulações diferentes de tubos plásticos está sendo estudada. Duas amostras de 12 observações são preparadas usando cada formulação, as temperaturas de deformação (em °F) são relatadas a seguir:"
      ],
      "metadata": {
        "id": "E2CvRmyBJACb"
      }
    },
    {
      "cell_type": "code",
      "source": [
        "%%R\n",
        "# construção das listas com os valores para cada grupo\n",
        "FORMULACAO_1 <- c(212, 199, 198, 194, 213, 216, 211, 191, 200, 193, 195, 184)\n",
        "FORMULACAO_2 <- c(177, 176, 198, 197, 185, 188, 206, 200, 189, 201, 197, 203)\n",
        "\n",
        "# montando um dataFrame com os grupos selecionados\n",
        "FORMULACAO <- data.frame(FORMULACAO_1, FORMULACAO_2)\n",
        "\n",
        "#str é uma função para verificar os tipos de dados de cada grupos\n",
        "str(FORMULACAO)"
      ],
      "metadata": {
        "colab": {
          "base_uri": "https://localhost:8080/"
        },
        "id": "WNcQP-PuVldX",
        "outputId": "144ac6e9-ca9e-4097-db49-43b625e52237"
      },
      "execution_count": 7,
      "outputs": [
        {
          "output_type": "stream",
          "name": "stdout",
          "text": [
            "'data.frame':\t12 obs. of  2 variables:\n",
            " $ FORMULACAO_1: num  212 199 198 194 213 216 211 191 200 193 ...\n",
            " $ FORMULACAO_2: num  177 176 198 197 185 188 206 200 189 201 ...\n"
          ]
        }
      ]
    },
    {
      "cell_type": "markdown",
      "source": [
        "a) Os dados apoiam a alegação de que a temperatura média de deformação sob carga para a formulação 1 é\n",
        "maior que a da formulação 2? Use α = 0,05."
      ],
      "metadata": {
        "id": "06zExhj8JkP8"
      }
    },
    {
      "cell_type": "markdown",
      "source": [
        "# 2. (1,0 ponto) O fabricante de um produto está investigando a resistência à ruptura de uma nova fibra sintética, que será utilizada para confecção de camisas de uso masculino. A resistência é geralmente afetada pela porcentagem de algodão usado na mistura de materiais para a fibra. O fabricante realizou um experimento com cinco níveis do conteúdo de algodão e reproduziu o experimento cinco vezes. Os dados estão apresentados na tabela a seguir."
      ],
      "metadata": {
        "id": "MTnAX8tDJ8c9"
      }
    },
    {
      "cell_type": "markdown",
      "source": [
        "a) Há evidências para apoiar a alegação de que a porcentagem de algodão afeta a média de resistência da nova\n",
        "fibra? Use α = 0,05."
      ],
      "metadata": {
        "id": "djumfL0gJ04D"
      }
    },
    {
      "cell_type": "markdown",
      "source": [
        "b) Se necessário, faça comparações entre os pares de médias. Que conclusões você pode tirar?"
      ],
      "metadata": {
        "id": "85516C6yJ4Wp"
      }
    },
    {
      "cell_type": "markdown",
      "source": [
        "# 3. (2,0 pontos) A resistência à tração do cimento Portland está sendo estudada. Quatro diferentes técnicas de mistura foram usadas e os seguintes dados coletados:"
      ],
      "metadata": {
        "id": "O9wQ0rXtOBWZ"
      }
    },
    {
      "cell_type": "markdown",
      "source": [
        "a) Avalie se os pressupostos para a análise de variância são satisfeitos."
      ],
      "metadata": {
        "id": "4CYYIE6nOWNu"
      }
    },
    {
      "cell_type": "markdown",
      "source": [
        "b) Teste a hipótese de que a técnica de mistura afeta a resistência do cimento. Use α = 0,05 e justifique a\n",
        "escolha da técnica utilizada (ANOVA ou Kruskal-Wallis)."
      ],
      "metadata": {
        "id": "kOVsBWuGOZyG"
      }
    },
    {
      "cell_type": "markdown",
      "source": [
        "c) Se necessário, faça um teste de comparações múltiplas."
      ],
      "metadata": {
        "id": "Z00mDTFdOdnu"
      }
    },
    {
      "cell_type": "markdown",
      "source": [
        "# 4. (1,0 ponto) Em um teste com um tipo de fusível, 9 peças foram testadas com 25% de sobrecarga. O tempo médio até queimar dessa amostra foi x 19, 2 minutos, com desvio-padrão populacional conhecido   2, 4 minutos. Sabendo que a população é normal calcule o intervalo de confiança 95% para a média μ da população."
      ],
      "metadata": {
        "id": "2VtzdBbMOjNn"
      }
    },
    {
      "cell_type": "markdown",
      "source": [
        "# 5. (1,0 ponto) A eficácia da publicidade de duas marcas rivais de café foi comparada. Os participantes avaliaram\n",
        "anúncios das duas marcas e classificaram a probabilidade geral de comprar o produto (de 0 a 10, com 10 sendo\n",
        "\"definitivamente vai comprar\" o produto\"). Metade dos participantes deu notas para um dos produtos, a outra metade\n",
        "deu classificações para o outro produto."
      ],
      "metadata": {
        "id": "TCiXYXMvOyLk"
      }
    },
    {
      "cell_type": "markdown",
      "source": [
        "Determine o teste a ser usado para verificar se existe diferença entre os dois grupos, realize o teste escolhido com 95% de confiança e discuta o significado dos resultados."
      ],
      "metadata": {
        "id": "mQx-slHXO4Tw"
      }
    },
    {
      "cell_type": "markdown",
      "source": [
        "# 6. (1,0 ponto) Os dados a seguir indicam a soma de notas obtidas por um grupo de alunos, homens e mulheres, do curso de engenharia. Use o teste de Mann-Whitney para determinar se os valores diferem entre homens e mulheres.Investigue se os empates observados interferem no resultado."
      ],
      "metadata": {
        "id": "BUoIhEz1O_Vq"
      }
    },
    {
      "cell_type": "markdown",
      "source": [
        "# 7. (1,0 ponto) O batimento cardíaco de um grupo de sete alunos, em batimento por minuto (bpm), foi aferido antes do exercício (I), imediatamente após o exercício (II), e 5 minutos após o exercício (III). Use o teste estatístico de Friedman para avaliar as diferenças entre os valores nas três situações. Aplique o teste de comparações múltiplas não paramétrico, se necessário."
      ],
      "metadata": {
        "id": "Ag1W8rkVPIuC"
      }
    },
    {
      "cell_type": "markdown",
      "source": [
        "# 8. (1,0 ponto) Use o teste de comparações múltiplas da menor diferença significativa para avaliar os resultados do exercício a seguir. Antes, faça o teste de Kruskall-Wallis."
      ],
      "metadata": {
        "id": "XGSZ2l2HPXt8"
      }
    },
    {
      "cell_type": "markdown",
      "source": [
        "# 9. (1,0 ponto) Considere os dados abaixo sobre os 574 gols marcados nas 232 partidas em Copas do Mundo de futebol, desde a Copa do Uruguai em 1930 até a Copa do Japão/Coreia em 2002. Os dados foram organizados em classes que representam intervalos de tempo entre gols sucessivos. Utilizando o teste Qui-quadrado verifique aderência ao modelo de Exponencial."
      ],
      "metadata": {
        "id": "lq63EQMPPeHW"
      }
    },
    {
      "cell_type": "markdown",
      "source": [
        "Dica: a distribuição exponencial é usada para descrever intervalos de tempo entre eventos sucessivos e possui a\n",
        "seguinte expressão: f(x) = λ*e-λx"
      ],
      "metadata": {
        "id": "cNhElFCGPmVg"
      }
    }
  ]
}