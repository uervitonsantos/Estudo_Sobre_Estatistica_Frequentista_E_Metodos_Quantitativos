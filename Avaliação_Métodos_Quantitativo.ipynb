{
  "nbformat": 4,
  "nbformat_minor": 0,
  "metadata": {
    "colab": {
      "provenance": [],
      "include_colab_link": true
    },
    "kernelspec": {
      "name": "python3",
      "display_name": "Python 3"
    },
    "language_info": {
      "name": "python"
    }
  },
  "cells": [
    {
      "cell_type": "markdown",
      "metadata": {
        "id": "view-in-github",
        "colab_type": "text"
      },
      "source": [
        "<a href=\"https://colab.research.google.com/github/uervitonsantos/Exercicios_Metodos_Quantitativos/blob/main/Avalia%C3%A7%C3%A3o_M%C3%A9todos_Quantitativo.ipynb\" target=\"_parent\"><img src=\"https://colab.research.google.com/assets/colab-badge.svg\" alt=\"Open In Colab\"/></a>"
      ]
    },
    {
      "cell_type": "markdown",
      "source": [
        "## Metodos Quantitativos"
      ],
      "metadata": {
        "id": "vBAteMN7Iz4y"
      }
    },
    {
      "cell_type": "code",
      "source": [
        "# rpy2 fornece uma interface que permite executar R em processos Python.\n",
        "!pip install rpy2"
      ],
      "metadata": {
        "id": "WE4MDPkNRpEd"
      },
      "execution_count": null,
      "outputs": []
    },
    {
      "cell_type": "code",
      "source": [
        "%load_ext rpy2.ipython"
      ],
      "metadata": {
        "id": "lSGra-J2RwXj"
      },
      "execution_count": 2,
      "outputs": []
    },
    {
      "cell_type": "code",
      "source": [
        "%%R\n",
        "# install e chamada dos pacotes necessarios para o analise dos dados\n",
        "if(!require(tidyverse))\n",
        "install.packages(\"tidyverse\")\n",
        "if(!require(RVAideMemoire))\n",
        "install.packages(\"nortest\")\n",
        "if(!require(psych))\n",
        "install.packages(\"psych\")\n",
        "if(!require(rstatix))\n",
        "install.packages(\"rstatix\")\n",
        "if(!require(car))\n",
        "install.packages(\"car\")\n",
        "if(!require(DescTools))\n",
        "install.packages(\"DescTools\")"
      ],
      "metadata": {
        "id": "uTdO-MY1R3JK"
      },
      "execution_count": null,
      "outputs": []
    },
    {
      "cell_type": "code",
      "source": [
        "%%R\n",
        "library(dplyr)\n",
        "library(tidyverse)\n",
        "library(tidyr)\n",
        "library(ggplot2)\n",
        "library(nortest)\n",
        "library(psych)\n",
        "library(rstatix)\n",
        "library(car)\n",
        "library(DescTools)"
      ],
      "metadata": {
        "id": "Ebj-tDxJSjef"
      },
      "execution_count": null,
      "outputs": []
    },
    {
      "cell_type": "markdown",
      "source": [
        "# 1. (1,0 ponto) A temperatura de deformação sob carga de duas formulações diferentes de tubos plásticos está sendo estudada. Duas amostras de 12 observações são preparadas usando cada formulação, as temperaturas de deformação (em °F) são relatadas a seguir:"
      ],
      "metadata": {
        "id": "E2CvRmyBJACb"
      }
    },
    {
      "cell_type": "markdown",
      "source": [
        "a) Os dados apoiam a alegação de que a temperatura média de deformação sob carga para a formulação 1 é\n",
        "maior que a da formulação 2? Use α = 0,05."
      ],
      "metadata": {
        "id": "06zExhj8JkP8"
      }
    },
    {
      "cell_type": "code",
      "source": [
        "%%R\n",
        "# construção das listas com os valores para cada grupo\n",
        "FORMULACAO_1 <- c(212, 199, 198, 194, 213, 216, 211, 191, 200, 193, 195, 184)\n",
        "FORMULACAO_2 <- c(177, 176, 198, 197, 185, 188, 206, 200, 189, 201, 197, 203)\n",
        "\n",
        "# montando um dataFrame com os grupos selecionados\n",
        "FORMULACAO <- data.frame(FORMULACAO_1, FORMULACAO_2)\n",
        "\n",
        "#str é uma função para verificar os tipos de dados de cada grupos\n",
        "str(FORMULACAO)"
      ],
      "metadata": {
        "id": "WNcQP-PuVldX",
        "colab": {
          "base_uri": "https://localhost:8080/"
        },
        "outputId": "273f5bdb-cbe5-41a9-adac-a28d08845d04"
      },
      "execution_count": 5,
      "outputs": [
        {
          "output_type": "stream",
          "name": "stdout",
          "text": [
            "'data.frame':\t12 obs. of  2 variables:\n",
            " $ FORMULACAO_1: num  212 199 198 194 213 216 211 191 200 193 ...\n",
            " $ FORMULACAO_2: num  177 176 198 197 185 188 206 200 189 201 ...\n"
          ]
        }
      ]
    },
    {
      "cell_type": "markdown",
      "source": [
        "##Hipóteses:\n",
        "\n",
        "H0: Os grupos possuem distribuição normal\n",
        "\n",
        "H1: Os grupos possuem não distribuição normal"
      ],
      "metadata": {
        "id": "KCQEUJGUUHfp"
      }
    },
    {
      "cell_type": "code",
      "source": [
        "%%R\n",
        "# verificando a normalidade dos dados com test de shapiro-wilk\n",
        "# https://pt.wikipedia.org/wiki/Teste_de_Shapiro%E2%80%93Wilk\n",
        "shapiro_1 <- shapiro.test(FORMULACAO_1)\n",
        "shapiro_2 <- shapiro.test(FORMULACAO_2)"
      ],
      "metadata": {
        "id": "1qPQZPtOu-Ju"
      },
      "execution_count": 6,
      "outputs": []
    },
    {
      "cell_type": "code",
      "source": [
        "%%R\n",
        "# resultado do test de shapiro-wilk para o grupo FORMULACAO_1\n",
        "shapiro_1"
      ],
      "metadata": {
        "colab": {
          "base_uri": "https://localhost:8080/"
        },
        "id": "6UOf--W1wmxR",
        "outputId": "9fcf190d-42b8-4b94-af6d-ca626ba63218"
      },
      "execution_count": 7,
      "outputs": [
        {
          "output_type": "stream",
          "name": "stdout",
          "text": [
            "\n",
            "\tShapiro-Wilk normality test\n",
            "\n",
            "data:  FORMULACAO_1\n",
            "W = 0.92643, p-value = 0.3438\n",
            "\n"
          ]
        }
      ]
    },
    {
      "cell_type": "code",
      "source": [
        "%%R\n",
        "# resultado do test de shapiro-wilk para o grupo FORMULACAO_2\n",
        "shapiro_2"
      ],
      "metadata": {
        "colab": {
          "base_uri": "https://localhost:8080/"
        },
        "id": "lT_t6QHrwshY",
        "outputId": "fdf7ea93-ea10-4013-8ed3-97d17a074085"
      },
      "execution_count": 8,
      "outputs": [
        {
          "output_type": "stream",
          "name": "stdout",
          "text": [
            "\n",
            "\tShapiro-Wilk normality test\n",
            "\n",
            "data:  FORMULACAO_2\n",
            "W = 0.91474, p-value = 0.2453\n",
            "\n"
          ]
        }
      ]
    },
    {
      "cell_type": "markdown",
      "source": [
        "Podemos observar com o teste de shapiro-wilk que ambos os grupos possuem distribuição normal como p > 0,5"
      ],
      "metadata": {
        "id": "uHcFeAHSw1Ax"
      }
    },
    {
      "cell_type": "code",
      "source": [
        "%%R\n",
        "# pivot_longer()\"aumenta\" os dados, aumentando o número de linhas e diminuindo o número de colunas.\n",
        "# https://tidyr.tidyverse.org/reference/pivot_longer.html\n",
        "col_form <- FORMULACAO %>% pivot_longer(cols = everything(), names_to = \"formulacao\")\n",
        "col_form"
      ],
      "metadata": {
        "colab": {
          "base_uri": "https://localhost:8080/"
        },
        "id": "6ZQ_6PVNxYrJ",
        "outputId": "e6ec48be-725b-4be9-eca7-34123f95c923"
      },
      "execution_count": 9,
      "outputs": [
        {
          "output_type": "stream",
          "name": "stdout",
          "text": [
            "# A tibble: 24 × 2\n",
            "   formulacao   value\n",
            "   <chr>        <dbl>\n",
            " 1 FORMULACAO_1   212\n",
            " 2 FORMULACAO_2   177\n",
            " 3 FORMULACAO_1   199\n",
            " 4 FORMULACAO_2   176\n",
            " 5 FORMULACAO_1   198\n",
            " 6 FORMULACAO_2   198\n",
            " 7 FORMULACAO_1   194\n",
            " 8 FORMULACAO_2   197\n",
            " 9 FORMULACAO_1   213\n",
            "10 FORMULACAO_2   185\n",
            "# … with 14 more rows\n",
            "# ℹ Use `print(n = ...)` to see more rows\n"
          ]
        }
      ]
    },
    {
      "cell_type": "code",
      "source": [
        "%%R\n",
        "ggplot(col_form, aes(x=value)) + geom_histogram(aes(y=..density..), colour=\"black\", fill=\"white\")+\n",
        " geom_density(alpha=.2, fill=\"#FF6666\") + ggtitle(\"Visualizando a normalidade dos dados\")"
      ],
      "metadata": {
        "colab": {
          "base_uri": "https://localhost:8080/",
          "height": 514
        },
        "id": "y3Q49sD0yGAt",
        "outputId": "d1a66a9c-202b-4654-9340-2ce59136cb6a"
      },
      "execution_count": 10,
      "outputs": [
        {
          "output_type": "stream",
          "name": "stdout",
          "text": [
            "`stat_bin()` using `bins = 30`. Pick better value with `binwidth`.\n"
          ]
        },
        {
          "output_type": "display_data",
          "data": {
            "image/png": "[encoded data removed]"
          },
          "metadata": {}
        }
      ]
    },
    {
      "cell_type": "code",
      "source": [
        "%%R\n",
        "# teste de Levene para verificar a homogeneidade de variancias\n",
        "# https://pt.wikipedia.org/wiki/Teste_de_Levene\n",
        "leveneTest(value ~ formulacao, data = col_form, center=mean)"
      ],
      "metadata": {
        "colab": {
          "base_uri": "https://localhost:8080/"
        },
        "id": "cyZApmBgxlFN",
        "outputId": "ea074f78-8820-4a1c-e0b7-a80806cadc98"
      },
      "execution_count": 11,
      "outputs": [
        {
          "output_type": "stream",
          "name": "stdout",
          "text": [
            "Levene's Test for Homogeneity of Variance (center = mean)\n",
            "      Df F value Pr(>F)\n",
            "group  1  0.0012 0.9731\n",
            "      22               \n"
          ]
        }
      ]
    },
    {
      "cell_type": "code",
      "source": [
        "%%R\n",
        "# verificamos abaixo um grafico (boxplot), que mostra a distribuição dos dados, as medias e os outliers presentes no conjunto\n",
        "# https://pt.wikipedia.org/wiki/Diagrama_de_caixa\n",
        "boxplot(value ~ formulacao, data = col_form, ylab=\"Valores\", xlab=\"Formulações\")"
      ],
      "metadata": {
        "colab": {
          "base_uri": "https://localhost:8080/",
          "height": 497
        },
        "id": "4O9HYyT2eHPO",
        "outputId": "026eda59-dc97-4ae8-8d7f-9e8d43a0d2ea"
      },
      "execution_count": 12,
      "outputs": [
        {
          "output_type": "display_data",
          "data": {
            "image/png": "[encoded data removed]"
          },
          "metadata": {}
        }
      ]
    },
    {
      "cell_type": "code",
      "source": [
        "%%R\n",
        "# Para comparar a média de cada um desses dois grupos, usamos a função t.test().\n",
        "# http://rstudio-pubs-static.s3.amazonaws.com/408638_6679293d4c7a415eaebe00faa3aea0cb.html\n",
        "t.test(FORMULACAO_1, FORMULACAO_2, conf.level  = 0.95)"
      ],
      "metadata": {
        "colab": {
          "base_uri": "https://localhost:8080/"
        },
        "id": "1-L6wZUkM13m",
        "outputId": "1dccb1ff-f761-44cc-dbe6-bae95679d4bc"
      },
      "execution_count": 13,
      "outputs": [
        {
          "output_type": "stream",
          "name": "stdout",
          "text": [
            "\n",
            "\tWelch Two Sample t-test\n",
            "\n",
            "data:  FORMULACAO_1 and FORMULACAO_2\n",
            "t = 1.8053, df = 21.989, p-value = 0.08474\n",
            "alternative hypothesis: true difference in means is not equal to 0\n",
            "95 percent confidence interval:\n",
            " -1.103683 15.937016\n",
            "sample estimates:\n",
            "mean of x mean of y \n",
            " 200.5000  193.0833 \n",
            "\n"
          ]
        }
      ]
    },
    {
      "cell_type": "markdown",
      "source": [
        "O teste-t para as duas amostras (Formulação 1 e Formulaçao 2), mostrou que há diferença entre as médias com (t(22) = 1.81; P = 0.08473). Portanto podemos rejeitar a H1"
      ],
      "metadata": {
        "id": "BMou49-8VWbM"
      }
    },
    {
      "cell_type": "markdown",
      "source": [
        "# 2. (1,0 ponto) O fabricante de um produto está investigando a resistência à ruptura de uma nova fibra sintética, que será utilizada para confecção de camisas de uso masculino. A resistência é geralmente afetada pela porcentagem de algodão usado na mistura de materiais para a fibra. O fabricante realizou um experimento com cinco níveis do conteúdo de algodão e reproduziu o experimento cinco vezes. Os dados estão apresentados na tabela a seguir."
      ],
      "metadata": {
        "id": "MTnAX8tDJ8c9"
      }
    },
    {
      "cell_type": "markdown",
      "source": [
        "a) Há evidências para apoiar a alegação de que a porcentagem de algodão afeta a média de resistência da nova\n",
        "fibra? Use α = 0,05."
      ],
      "metadata": {
        "id": "djumfL0gJ04D"
      }
    },
    {
      "cell_type": "markdown",
      "source": [
        "b) Se necessário, faça comparações entre os pares de médias. Que conclusões você pode tirar?"
      ],
      "metadata": {
        "id": "85516C6yJ4Wp"
      }
    },
    {
      "cell_type": "code",
      "source": [
        "%%R\n",
        "# construção das listas com os valores para cada grupo\n",
        "Algodao_15 <- c(7,7,15,11,9)\n",
        "Algodao_20 <- c(12,17,12,18,18)\n",
        "Algodao_25 <- c(14,19,19,18,18)\n",
        "Algodao_30 <- c(19,25,22,19,23)\n",
        "Algodao_35 <- c(7,10,11,15,11)\n",
        "\n",
        "# montando um dataFrame com os grupos selecionados\n",
        "algodao <- data.frame(Algodao_15, Algodao_20, Algodao_25, Algodao_30, Algodao_35)\n",
        "\n",
        "#str é uma função para verificar os tipos de dados de cada grupos\n",
        "str(algodao)"
      ],
      "metadata": {
        "colab": {
          "base_uri": "https://localhost:8080/"
        },
        "id": "vrzdYSmdbuuS",
        "outputId": "1df81018-f9c4-43b5-b7d4-fce3c8a465ac"
      },
      "execution_count": 14,
      "outputs": [
        {
          "output_type": "stream",
          "name": "stdout",
          "text": [
            "'data.frame':\t5 obs. of  5 variables:\n",
            " $ Algodao_15: num  7 7 15 11 9\n",
            " $ Algodao_20: num  12 17 12 18 18\n",
            " $ Algodao_25: num  14 19 19 18 18\n",
            " $ Algodao_30: num  19 25 22 19 23\n",
            " $ Algodao_35: num  7 10 11 15 11\n"
          ]
        }
      ]
    },
    {
      "cell_type": "code",
      "source": [
        "%%R\n",
        "# verificando a normalidade dos dados com test de shapiro-wilk\n",
        "# https://pt.wikipedia.org/wiki/Teste_de_Shapiro%E2%80%93Wilk\n",
        "shapiro_a_15 <- shapiro.test(Algodao_15)\n",
        "shapiro_a_20 <- shapiro.test(Algodao_20)\n",
        "shapiro_a_25 <- shapiro.test(Algodao_25)\n",
        "shapiro_a_30 <- shapiro.test(Algodao_30)\n",
        "shapiro_a_35 <- shapiro.test(Algodao_35)"
      ],
      "metadata": {
        "id": "5RXbl_SS4Vta"
      },
      "execution_count": 15,
      "outputs": []
    },
    {
      "cell_type": "code",
      "source": [
        "%%R\n",
        "# resultado do test de shapiro-wilk para o grupo Algodao_15\n",
        "shapiro_a_15"
      ],
      "metadata": {
        "colab": {
          "base_uri": "https://localhost:8080/"
        },
        "id": "qJoUDx2X4-Cd",
        "outputId": "c10e5ccf-62a8-4937-8682-0201f8657261"
      },
      "execution_count": 16,
      "outputs": [
        {
          "output_type": "stream",
          "name": "stdout",
          "text": [
            "\n",
            "\tShapiro-Wilk normality test\n",
            "\n",
            "data:  Algodao_15\n",
            "W = 0.88104, p-value = 0.314\n",
            "\n"
          ]
        }
      ]
    },
    {
      "cell_type": "code",
      "source": [
        "%%R\n",
        "# resultado do test de shapiro-wilk para o grupo Algodao_20\n",
        "shapiro_a_20"
      ],
      "metadata": {
        "colab": {
          "base_uri": "https://localhost:8080/"
        },
        "id": "doJnj8Kz5HVq",
        "outputId": "94314331-baba-49b3-b30f-2968288d5ce8"
      },
      "execution_count": 17,
      "outputs": [
        {
          "output_type": "stream",
          "name": "stdout",
          "text": [
            "\n",
            "\tShapiro-Wilk normality test\n",
            "\n",
            "data:  Algodao_20\n",
            "W = 0.75383, p-value = 0.03228\n",
            "\n"
          ]
        }
      ]
    },
    {
      "cell_type": "code",
      "source": [
        "%%R\n",
        "# resultado do test de shapiro-wilk para o grupo Algodao_25\n",
        "shapiro_a_25"
      ],
      "metadata": {
        "colab": {
          "base_uri": "https://localhost:8080/"
        },
        "id": "Uaa1El4y5Kdd",
        "outputId": "706831f4-998d-41c5-fc14-d73706f627ad"
      },
      "execution_count": 18,
      "outputs": [
        {
          "output_type": "stream",
          "name": "stdout",
          "text": [
            "\n",
            "\tShapiro-Wilk normality test\n",
            "\n",
            "data:  Algodao_25\n",
            "W = 0.73872, p-value = 0.02332\n",
            "\n"
          ]
        }
      ]
    },
    {
      "cell_type": "code",
      "source": [
        "%%R\n",
        "# resultado do test de shapiro-wilk para o grupo Algodao_30\n",
        "shapiro_a_30"
      ],
      "metadata": {
        "colab": {
          "base_uri": "https://localhost:8080/"
        },
        "id": "ZNBsAvcg5NbM",
        "outputId": "bda7b643-e599-47ff-f961-9de19115593e"
      },
      "execution_count": 19,
      "outputs": [
        {
          "output_type": "stream",
          "name": "stdout",
          "text": [
            "\n",
            "\tShapiro-Wilk normality test\n",
            "\n",
            "data:  Algodao_30\n",
            "W = 0.90202, p-value = 0.4211\n",
            "\n"
          ]
        }
      ]
    },
    {
      "cell_type": "code",
      "source": [
        "%%R\n",
        "# resultado do test de shapiro-wilk para o grupo Algodao_35\n",
        "shapiro_a_35"
      ],
      "metadata": {
        "colab": {
          "base_uri": "https://localhost:8080/"
        },
        "id": "zcE8i-dJ5RV2",
        "outputId": "99b22405-9e22-403c-dae0-fa2d0d88ee20"
      },
      "execution_count": 20,
      "outputs": [
        {
          "output_type": "stream",
          "name": "stdout",
          "text": [
            "\n",
            "\tShapiro-Wilk normality test\n",
            "\n",
            "data:  Algodao_35\n",
            "W = 0.94197, p-value = 0.6799\n",
            "\n"
          ]
        }
      ]
    },
    {
      "cell_type": "markdown",
      "source": [
        "Podemos observar com o teste de shapiro-wilk que pelo mesnos um dos grupos NÂO possue distribuição normal como p > 0,5"
      ],
      "metadata": {
        "id": "ZAz1gEcW6Szn"
      }
    },
    {
      "cell_type": "code",
      "source": [
        "%%R\n",
        "# pivot_longer()\"aumenta\" os dados, aumentando o número de linhas e diminuindo o número de colunas.\n",
        "# https://tidyr.tidyverse.org/reference/pivot_longer.html\n",
        "algodao <- algodao %>% pivot_longer(cols = everything(), names_to = \"algodao\")\n",
        "algodao"
      ],
      "metadata": {
        "colab": {
          "base_uri": "https://localhost:8080/"
        },
        "id": "PqXn44hAcSQT",
        "outputId": "ff88648d-2518-4a5b-be5e-0128319c80a9"
      },
      "execution_count": 21,
      "outputs": [
        {
          "output_type": "stream",
          "name": "stdout",
          "text": [
            "# A tibble: 25 × 2\n",
            "   algodao    value\n",
            "   <chr>      <dbl>\n",
            " 1 Algodao_15     7\n",
            " 2 Algodao_20    12\n",
            " 3 Algodao_25    14\n",
            " 4 Algodao_30    19\n",
            " 5 Algodao_35     7\n",
            " 6 Algodao_15     7\n",
            " 7 Algodao_20    17\n",
            " 8 Algodao_25    19\n",
            " 9 Algodao_30    25\n",
            "10 Algodao_35    10\n",
            "# … with 15 more rows\n",
            "# ℹ Use `print(n = ...)` to see more rows\n"
          ]
        }
      ]
    },
    {
      "cell_type": "code",
      "source": [
        "%%R\n",
        "# verificamos abaixo um grafico (boxplot), que mostra a distribuição dos dados, as medias e os outliers presentes no conjunto\n",
        "# https://pt.wikipedia.org/wiki/Diagrama_de_caixa\n",
        "boxplot(value ~ algodao, data = algodao, ylab=\"Valores\", xlab=\"% de algodao\")"
      ],
      "metadata": {
        "colab": {
          "base_uri": "https://localhost:8080/",
          "height": 497
        },
        "id": "70569Rh9y4ga",
        "outputId": "140dfc6d-b279-4769-e2a1-3fb6002aeb6a"
      },
      "execution_count": 62,
      "outputs": [
        {
          "output_type": "display_data",
          "data": {
            "image/png": "[encoded data removed]"
          },
          "metadata": {}
        }
      ]
    },
    {
      "cell_type": "code",
      "source": [
        "%%R\n",
        "# Grafico para mostra a distribuição dos dados\n",
        "ggplot(algodao, aes(x=value)) + geom_histogram(aes(y=..density..), colour=\"black\", fill=\"white\")+\n",
        " geom_density(alpha=.2, fill=\"#FF6666\") + ggtitle(\"Visualizando a normalidade dos dados\")"
      ],
      "metadata": {
        "colab": {
          "base_uri": "https://localhost:8080/",
          "height": 514
        },
        "id": "s8hLI2vE52Me",
        "outputId": "2e87661a-0c58-4063-86bf-d56524cac558"
      },
      "execution_count": 64,
      "outputs": [
        {
          "output_type": "stream",
          "name": "stdout",
          "text": [
            "`stat_bin()` using `bins = 30`. Pick better value with `binwidth`.\n"
          ]
        },
        {
          "output_type": "display_data",
          "data": {
            "image/png": "[encoded data removed]"
          },
          "metadata": {}
        }
      ]
    },
    {
      "cell_type": "code",
      "source": [
        "%%R\n",
        "# Teste de Kruskal-Wallis que nos mostra se há diferença entre os grupos\n",
        "kruskal_algodao <- kruskal.test(value ~ algodao, data = algodao)\n",
        "kruskal_algodao"
      ],
      "metadata": {
        "colab": {
          "base_uri": "https://localhost:8080/"
        },
        "id": "VSykDBJZ7Ek4",
        "outputId": "85b39a7a-735b-46d3-fac3-f02ca9026941"
      },
      "execution_count": 63,
      "outputs": [
        {
          "output_type": "stream",
          "name": "stdout",
          "text": [
            "\n",
            "\tKruskal-Wallis rank sum test\n",
            "\n",
            "data:  value by algodao\n",
            "Kruskal-Wallis chi-squared = 19.064, df = 4, p-value = 0.0007636\n",
            "\n"
          ]
        }
      ]
    },
    {
      "cell_type": "markdown",
      "source": [
        "O teste de Kruskal-Wallis nos mostra um resultado de p-value = 0.0007636\n",
        "Sendo assim, devemos rejeitar a H0, que nos diz que a mediana dos grupos são iguis e aceitar a H1 que nos diz que pelo menos um dos grupos tem um mediana diferente."
      ],
      "metadata": {
        "id": "DWX9kLbrk6-G"
      }
    },
    {
      "cell_type": "code",
      "source": [
        "%%R\n",
        "# teste de Dunn para análizar entre quais grupos existe as maiores variâncias\n",
        "# https://rdrr.io/cran/rstatix/man/dunn_test.html\n",
        "dunn_algodao <- dunn_test(value ~ algodao, data = algodao, p.adjust.method = \"bonferroni\")\n",
        "dunn_algodao"
      ],
      "metadata": {
        "colab": {
          "base_uri": "https://localhost:8080/"
        },
        "id": "yS7TMgWifkTA",
        "outputId": "15b2e4cd-05fc-42cb-f8c9-3c34cbe7cd20"
      },
      "execution_count": 40,
      "outputs": [
        {
          "output_type": "stream",
          "name": "stdout",
          "text": [
            "# A tibble: 10 × 9\n",
            "   .y.   group1     group2        n1    n2 statistic        p   p.adj p.adj.si…¹\n",
            " * <chr> <chr>      <chr>      <int> <int>     <dbl>    <dbl>   <dbl> <chr>     \n",
            " 1 value Algodao_15 Algodao_20     5     5     1.66  0.0961   0.961   ns        \n",
            " 2 value Algodao_15 Algodao_25     5     5     2.48  0.0130   0.130   ns        \n",
            " 3 value Algodao_15 Algodao_30     5     5     3.70  0.000220 0.00220 **        \n",
            " 4 value Algodao_15 Algodao_35     5     5     0.259 0.795    1       ns        \n",
            " 5 value Algodao_20 Algodao_25     5     5     0.821 0.412    1       ns        \n",
            " 6 value Algodao_20 Algodao_30     5     5     2.03  0.0422   0.422   ns        \n",
            " 7 value Algodao_20 Algodao_35     5     5    -1.40  0.160    1       ns        \n",
            " 8 value Algodao_25 Algodao_30     5     5     1.21  0.226    1       ns        \n",
            " 9 value Algodao_25 Algodao_35     5     5    -2.23  0.0260   0.260   ns        \n",
            "10 value Algodao_30 Algodao_35     5     5    -3.44  0.000591 0.00591 **        \n",
            "# … with abbreviated variable name ¹​p.adj.signif\n"
          ]
        }
      ]
    },
    {
      "cell_type": "markdown",
      "source": [
        "O teste de DUNN nos mostrando que há deferenças entre os grupos.\n",
        "O teste mostrou que há diferenças significativas entre a amostra de Algodão (15 - 30), (30 -25)"
      ],
      "metadata": {
        "id": "U7p8BMiZg7vu"
      }
    },
    {
      "cell_type": "markdown",
      "source": [
        "# 3. (2,0 pontos) A resistência à tração do cimento Portland está sendo estudada. Quatro diferentes técnicas de mistura foram usadas e os seguintes dados coletados:"
      ],
      "metadata": {
        "id": "O9wQ0rXtOBWZ"
      }
    },
    {
      "cell_type": "markdown",
      "source": [
        "a) Avalie se os pressupostos para a análise de variância são satisfeitos."
      ],
      "metadata": {
        "id": "4CYYIE6nOWNu"
      }
    },
    {
      "cell_type": "markdown",
      "source": [
        "b) Teste a hipótese de que a técnica de mistura afeta a resistência do cimento. Use α = 0,05 e justifique a\n",
        "escolha da técnica utilizada (ANOVA ou Kruskal-Wallis)."
      ],
      "metadata": {
        "id": "kOVsBWuGOZyG"
      }
    },
    {
      "cell_type": "markdown",
      "source": [
        "c) Se necessário, faça um teste de comparações múltiplas."
      ],
      "metadata": {
        "id": "Z00mDTFdOdnu"
      }
    },
    {
      "cell_type": "code",
      "source": [
        "%%R\n",
        "# construção das listas com os valores para cada grupo\n",
        "mistura_1 <- c(3129, 3000, 2865, 2890)\n",
        "mistura_2 <- c(3200, 3300, 2975, 3150)\n",
        "mistura_3 <- c(2800, 2900, 2985, 3050)\n",
        "mistura_4 <- c(2600, 2700, 2600, 2765)\n",
        "\n",
        "# montando um dataFrame com os grupos selecionados\n",
        "mistura <- data.frame(mistura_1, mistura_2, mistura_3, mistura_4)\n",
        "\n",
        "#str é uma função para verificar os tipos de dados de cada grupos\n",
        "str(mistura)"
      ],
      "metadata": {
        "colab": {
          "base_uri": "https://localhost:8080/"
        },
        "id": "BCP_AGIko2he",
        "outputId": "fc81983d-7d68-4f66-be85-2019fec48304"
      },
      "execution_count": 67,
      "outputs": [
        {
          "output_type": "stream",
          "name": "stdout",
          "text": [
            "'data.frame':\t4 obs. of  4 variables:\n",
            " $ mistura_1: num  3129 3000 2865 2890\n",
            " $ mistura_2: num  3200 3300 2975 3150\n",
            " $ mistura_3: num  2800 2900 2985 3050\n",
            " $ mistura_4: num  2600 2700 2600 2765\n"
          ]
        }
      ]
    },
    {
      "cell_type": "code",
      "source": [
        "%%R\n",
        "# verificando a normalidade dos dados com test de shapiro-wilk\n",
        "# https://pt.wikipedia.org/wiki/Teste_de_Shapiro%E2%80%93Wilk\n",
        "shapiro_mistura_1 <- shapiro.test(mistura_1)\n",
        "shapiro_mistura_2 <- shapiro.test(mistura_2)\n",
        "shapiro_mistura_3 <- shapiro.test(mistura_3)\n",
        "shapiro_mistura_4 <- shapiro.test(mistura_4)"
      ],
      "metadata": {
        "id": "OO0blJApsfTq"
      },
      "execution_count": 68,
      "outputs": []
    },
    {
      "cell_type": "code",
      "source": [
        "%%R\n",
        "# resultado do test de shapiro-wilk para o grupo mistura_1\n",
        "shapiro_mistura_1"
      ],
      "metadata": {
        "colab": {
          "base_uri": "https://localhost:8080/"
        },
        "id": "-drg4TXkv4aX",
        "outputId": "25f6c651-d73c-42fa-f33f-fde8b3e9e58e"
      },
      "execution_count": 70,
      "outputs": [
        {
          "output_type": "stream",
          "name": "stdout",
          "text": [
            "\n",
            "\tShapiro-Wilk normality test\n",
            "\n",
            "data:  mistura_1\n",
            "W = 0.91496, p-value = 0.5091\n",
            "\n"
          ]
        }
      ]
    },
    {
      "cell_type": "code",
      "source": [
        "%%R\n",
        "# resultado do test de shapiro-wilk para o grupo mistura_2\n",
        "shapiro_mistura_2"
      ],
      "metadata": {
        "colab": {
          "base_uri": "https://localhost:8080/"
        },
        "id": "D5QcL4T9wWY1",
        "outputId": "49faaf69-0d83-45c5-ffb8-9d65c5ab1170"
      },
      "execution_count": 71,
      "outputs": [
        {
          "output_type": "stream",
          "name": "stdout",
          "text": [
            "\n",
            "\tShapiro-Wilk normality test\n",
            "\n",
            "data:  mistura_2\n",
            "W = 0.96765, p-value = 0.8269\n",
            "\n"
          ]
        }
      ]
    },
    {
      "cell_type": "code",
      "source": [
        "%%R\n",
        "# resultado do test de shapiro-wilk para o grupo mistura_3\n",
        "shapiro_mistura_3"
      ],
      "metadata": {
        "colab": {
          "base_uri": "https://localhost:8080/"
        },
        "id": "iH2wdWVAwXft",
        "outputId": "792d3898-7fea-450f-a6f0-bfddb1c8b426"
      },
      "execution_count": 72,
      "outputs": [
        {
          "output_type": "stream",
          "name": "stdout",
          "text": [
            "\n",
            "\tShapiro-Wilk normality test\n",
            "\n",
            "data:  mistura_3\n",
            "W = 0.98323, p-value = 0.9207\n",
            "\n"
          ]
        }
      ]
    },
    {
      "cell_type": "code",
      "source": [
        "%%R\n",
        "# resultado do test de shapiro-wilk para o grupo mistura_4\n",
        "shapiro_mistura_4"
      ],
      "metadata": {
        "colab": {
          "base_uri": "https://localhost:8080/"
        },
        "id": "JsTVvXYTwYO6",
        "outputId": "88706ce1-2518-4f32-a229-e6e8d37b7f2f"
      },
      "execution_count": 73,
      "outputs": [
        {
          "output_type": "stream",
          "name": "stdout",
          "text": [
            "\n",
            "\tShapiro-Wilk normality test\n",
            "\n",
            "data:  mistura_4\n",
            "W = 0.85966, p-value = 0.259\n",
            "\n"
          ]
        }
      ]
    },
    {
      "cell_type": "markdown",
      "source": [
        "Podemos observar com o teste de shapiro-wilk que alguns dos grupos NÂO possue distribuição normal como p > 0,5"
      ],
      "metadata": {
        "id": "cQmq_b_e1Zqw"
      }
    },
    {
      "cell_type": "code",
      "source": [
        "%%R\n",
        "# pivot_longer()\"aumenta\" os dados, aumentando o número de linhas e diminuindo o número de colunas.\n",
        "# https://tidyr.tidyverse.org/reference/pivot_longer.html\n",
        "mistura <- mistura %>% pivot_longer(cols = everything(), names_to = \"mistura\")\n",
        "mistura"
      ],
      "metadata": {
        "colab": {
          "base_uri": "https://localhost:8080/"
        },
        "id": "uehe2_7pqxph",
        "outputId": "761bedd7-f510-469e-8756-59244f0bc826"
      },
      "execution_count": 56,
      "outputs": [
        {
          "output_type": "stream",
          "name": "stdout",
          "text": [
            "# A tibble: 16 × 2\n",
            "   mistura   value\n",
            "   <chr>     <dbl>\n",
            " 1 mistura_1  3129\n",
            " 2 mistura_2  3200\n",
            " 3 mistura_3  2800\n",
            " 4 mistura_4  2600\n",
            " 5 mistura_1  3000\n",
            " 6 mistura_2  3300\n",
            " 7 mistura_3  2900\n",
            " 8 mistura_4  2700\n",
            " 9 mistura_1  2865\n",
            "10 mistura_2  2975\n",
            "11 mistura_3  2985\n",
            "12 mistura_4  2600\n",
            "13 mistura_1  2890\n",
            "14 mistura_2  3150\n",
            "15 mistura_3  3050\n",
            "16 mistura_4  2765\n"
          ]
        }
      ]
    },
    {
      "cell_type": "code",
      "source": [
        "%%R\n",
        "# verificamos abaixo um grafico (boxplot), que mostra a distribuição dos dados, as medias e os outliers presentes no conjunto\n",
        "# https://pt.wikipedia.org/wiki/Diagrama_de_caixa\n",
        "boxplot(value ~ mistura, data = mistura, ylab=\"Valores\", xlab=\"Misturas\")"
      ],
      "metadata": {
        "colab": {
          "base_uri": "https://localhost:8080/",
          "height": 497
        },
        "id": "B-wlvyzA0hOs",
        "outputId": "cd24f8ea-b2cf-40e9-f05e-06e5a853906c"
      },
      "execution_count": 66,
      "outputs": [
        {
          "output_type": "display_data",
          "data": {
            "image/png": "[encoded data removed]"
          },
          "metadata": {}
        }
      ]
    },
    {
      "cell_type": "code",
      "source": [
        "%%R\n",
        "# Grafico para mostrar a distribuição dos dados\n",
        "ggplot(mistura, aes(x=value)) + geom_histogram(aes(y=..density..), colour=\"black\", fill=\"white\")+\n",
        " geom_density(alpha=.2, fill=\"#FF6666\") + ggtitle(\"Visualizando a normalidade dos dados\")"
      ],
      "metadata": {
        "colab": {
          "base_uri": "https://localhost:8080/",
          "height": 514
        },
        "id": "l7Jgt6ixw6Z2",
        "outputId": "a7d2f70b-357c-4cee-e3ae-7505d4b34a03"
      },
      "execution_count": 57,
      "outputs": [
        {
          "output_type": "stream",
          "name": "stdout",
          "text": [
            "`stat_bin()` using `bins = 30`. Pick better value with `binwidth`.\n"
          ]
        },
        {
          "output_type": "display_data",
          "data": {
            "image/png": "[encoded data removed]"
          },
          "metadata": {}
        }
      ]
    },
    {
      "cell_type": "code",
      "source": [
        "%%R\n",
        "kruskal_mistura <- kruskal.test(value ~ mistura, data = mistura)\n",
        "kruskal_mistura"
      ],
      "metadata": {
        "colab": {
          "base_uri": "https://localhost:8080/"
        },
        "id": "XOgd6ZHPxVt5",
        "outputId": "53ce2394-7749-4624-e104-b6250cc1f0b5"
      },
      "execution_count": 58,
      "outputs": [
        {
          "output_type": "stream",
          "name": "stdout",
          "text": [
            "\n",
            "\tKruskal-Wallis rank sum test\n",
            "\n",
            "data:  value by mistura\n",
            "Kruskal-Wallis chi-squared = 10.891, df = 3, p-value = 0.01233\n",
            "\n"
          ]
        }
      ]
    },
    {
      "cell_type": "markdown",
      "source": [
        "O teste de Kruskal-Wallis nos mostra um resultado de p-value = 0.01233\n",
        "Sendo assim, devemos rejeitar a H0, que nos diz que a mediana dos grupos são iguais e aceitar a H1 que nos diz que pelo menos um dos grupos tem um mediana diferente."
      ],
      "metadata": {
        "id": "5PL-3bB3xjrL"
      }
    },
    {
      "cell_type": "code",
      "source": [
        "%%R\n",
        "# teste de Dunn para análizar entre quais grupos existe as maiores variâncias\n",
        "# https://rdrr.io/cran/rstatix/man/dunn_test.html\n",
        "dunn_mistura <- dunn_test(value ~ mistura, data = mistura, p.adjust.method = \"bonferroni\")\n",
        "dunn_mistura"
      ],
      "metadata": {
        "colab": {
          "base_uri": "https://localhost:8080/"
        },
        "id": "wnyr1mLt0SKm",
        "outputId": "2c805445-842b-4a03-8806-b0160f18a717"
      },
      "execution_count": 65,
      "outputs": [
        {
          "output_type": "stream",
          "name": "stdout",
          "text": [
            "# A tibble: 6 × 9\n",
            "  .y.   group1    group2       n1    n2 statistic       p   p.adj p.adj.signif\n",
            "* <chr> <chr>     <chr>     <int> <int>     <dbl>   <dbl>   <dbl> <chr>       \n",
            "1 value mistura_1 mistura_2     4     4     1.26  0.206   1       ns          \n",
            "2 value mistura_1 mistura_3     4     4    -0.149 0.882   1       ns          \n",
            "3 value mistura_1 mistura_4     4     4    -2.01  0.0448  0.269   ns          \n",
            "4 value mistura_2 mistura_3     4     4    -1.41  0.158   0.948   ns          \n",
            "5 value mistura_2 mistura_4     4     4    -3.27  0.00108 0.00646 **          \n",
            "6 value mistura_3 mistura_4     4     4    -1.86  0.0632  0.379   ns          \n"
          ]
        }
      ]
    },
    {
      "cell_type": "code",
      "source": [
        "%%R\n",
        "# teste de Dunn para análizar entre quais grupos existe as maiores variâncias\n",
        "# https://rdrr.io/cran/rstatix/man/dunn_test.html\n",
        "dunn_mistura <- dunn_test(value ~ mistura, data = mistura, p.adjust.method = \"bonferroni\")\n",
        "dunn_mistura"
      ],
      "metadata": {
        "colab": {
          "base_uri": "https://localhost:8080/"
        },
        "id": "W44I5OCwx2yi",
        "outputId": "dd8543fb-422a-4e29-ea2d-7a18375a33ff"
      },
      "execution_count": 59,
      "outputs": [
        {
          "output_type": "stream",
          "name": "stdout",
          "text": [
            "# A tibble: 6 × 9\n",
            "  .y.   group1    group2       n1    n2 statistic       p   p.adj p.adj.signif\n",
            "* <chr> <chr>     <chr>     <int> <int>     <dbl>   <dbl>   <dbl> <chr>       \n",
            "1 value mistura_1 mistura_2     4     4     1.26  0.206   1       ns          \n",
            "2 value mistura_1 mistura_3     4     4    -0.149 0.882   1       ns          \n",
            "3 value mistura_1 mistura_4     4     4    -2.01  0.0448  0.269   ns          \n",
            "4 value mistura_2 mistura_3     4     4    -1.41  0.158   0.948   ns          \n",
            "5 value mistura_2 mistura_4     4     4    -3.27  0.00108 0.00646 **          \n",
            "6 value mistura_3 mistura_4     4     4    -1.86  0.0632  0.379   ns          \n"
          ]
        }
      ]
    },
    {
      "cell_type": "markdown",
      "source": [
        "O teste de DUNN nos mostrando que há diferenças entre os grupos.\n",
        "O teste mostrou que há diferenças significativas entre a amostra (mistura_2 mistura_4)"
      ],
      "metadata": {
        "id": "5sKNnZ9GyQV6"
      }
    },
    {
      "cell_type": "markdown",
      "source": [
        "# 4. (1,0 ponto) Em um teste com um tipo de fusível, 9 peças foram testadas com 25% de sobrecarga. O tempo médio até queimar dessa amostra foi x 19, 2 minutos, com desvio-padrão populacional conhecido   2, 4 minutos. Sabendo que a população é normal calcule o intervalo de confiança 95% para a média μ da população."
      ],
      "metadata": {
        "id": "2VtzdBbMOjNn"
      }
    },
    {
      "cell_type": "markdown",
      "source": [
        "# 5. (1,0 ponto) A eficácia da publicidade de duas marcas rivais de café foi comparada. Os participantes avaliaram\n",
        "anúncios das duas marcas e classificaram a probabilidade geral de comprar o produto (de 0 a 10, com 10 sendo\n",
        "\"definitivamente vai comprar\" o produto\"). Metade dos participantes deu notas para um dos produtos, a outra metade\n",
        "deu classificações para o outro produto."
      ],
      "metadata": {
        "id": "TCiXYXMvOyLk"
      }
    },
    {
      "cell_type": "markdown",
      "source": [
        "Determine o teste a ser usado para verificar se existe diferença entre os dois grupos, realize o teste escolhido com 95% de confiança e discuta o significado dos resultados."
      ],
      "metadata": {
        "id": "mQx-slHXO4Tw"
      }
    },
    {
      "cell_type": "markdown",
      "source": [
        "# 6. (1,0 ponto) Os dados a seguir indicam a soma de notas obtidas por um grupo de alunos, homens e mulheres, do curso de engenharia. Use o teste de Mann-Whitney para determinar se os valores diferem entre homens e mulheres.Investigue se os empates observados interferem no resultado."
      ],
      "metadata": {
        "id": "BUoIhEz1O_Vq"
      }
    },
    {
      "cell_type": "markdown",
      "source": [
        "# 7. (1,0 ponto) O batimento cardíaco de um grupo de sete alunos, em batimento por minuto (bpm), foi aferido antes do exercício (I), imediatamente após o exercício (II), e 5 minutos após o exercício (III). Use o teste estatístico de Friedman para avaliar as diferenças entre os valores nas três situações. Aplique o teste de comparações múltiplas não paramétrico, se necessário."
      ],
      "metadata": {
        "id": "Ag1W8rkVPIuC"
      }
    },
    {
      "cell_type": "markdown",
      "source": [
        "# 8. (1,0 ponto) Use o teste de comparações múltiplas da menor diferença significativa para avaliar os resultados do exercício a seguir. Antes, faça o teste de Kruskall-Wallis."
      ],
      "metadata": {
        "id": "XGSZ2l2HPXt8"
      }
    },
    {
      "cell_type": "markdown",
      "source": [
        "# 9. (1,0 ponto) Considere os dados abaixo sobre os 574 gols marcados nas 232 partidas em Copas do Mundo de futebol, desde a Copa do Uruguai em 1930 até a Copa do Japão/Coreia em 2002. Os dados foram organizados em classes que representam intervalos de tempo entre gols sucessivos. Utilizando o teste Qui-quadrado verifique aderência ao modelo de Exponencial."
      ],
      "metadata": {
        "id": "lq63EQMPPeHW"
      }
    },
    {
      "cell_type": "markdown",
      "source": [
        "Dica: a distribuição exponencial é usada para descrever intervalos de tempo entre eventos sucessivos e possui a\n",
        "seguinte expressão: f(x) = λ*e-λx"
      ],
      "metadata": {
        "id": "cNhElFCGPmVg"
      }
    }
  ]
}